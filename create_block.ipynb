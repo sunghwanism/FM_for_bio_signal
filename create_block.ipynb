{
  "nbformat": 4,
  "nbformat_minor": 0,
  "metadata": {
    "colab": {
      "provenance": []
    },
    "kernelspec": {
      "name": "python3",
      "display_name": "Python 3"
    },
    "language_info": {
      "name": "python"
    }
  },
  "cells": [
    {
      "cell_type": "markdown",
      "source": [
        "using numpy"
      ],
      "metadata": {
        "id": "46LUCgd9rB23"
      }
    },
    {
      "cell_type": "code",
      "source": [
        "import os\n",
        "import numpy as np\n",
        "\n",
        "ecg_directory = '/content/mesa_preproc_sample/preproc/final/ecg/'\n",
        "hr_directory = '/content/mesa_preproc_sample/preproc/final/hr/'\n",
        "\n",
        "def process_data(file_path, block_size, is_ecg=True):\n",
        "    data = []\n",
        "    psg_status = []\n",
        "    with open(file_path, 'r') as file:\n",
        "        next(file)\n",
        "        for line in file:\n",
        "            if line.strip() != '':\n",
        "                row_data = line.split(',')\n",
        "                if is_ecg:\n",
        "                    data.append(float(row_data[0]))\n",
        "                else:\n",
        "                    data.append(float(row_data[1]))\n",
        "                psg_status.append(int(row_data[-1]))\n",
        "    data = np.array(data)\n",
        "    psg_status = np.array(psg_status)\n",
        "\n",
        "    num_blocks = len(data) // block_size\n",
        "    data_blocks = np.split(data[:num_blocks * block_size], num_blocks)\n",
        "    psg_status_blocks = np.split(psg_status[:num_blocks * block_size], num_blocks)\n",
        "    return data_blocks, psg_status_blocks"
      ],
      "metadata": {
        "id": "_cj6BYyNrAqP"
      },
      "execution_count": 11,
      "outputs": []
    },
    {
      "cell_type": "code",
      "source": [
        "# Process ECG data\n",
        "ecg_data_blocks = []\n",
        "ecg_psg_status_blocks = []\n",
        "for filename in os.listdir(ecg_directory):\n",
        "    if filename.endswith('.csv'):\n",
        "        ecg_file_path = os.path.join(ecg_directory, filename)\n",
        "        data_blocks, psg_status_blocks = process_data(ecg_file_path, block_size=7680, is_ecg=True)\n",
        "        ecg_data_blocks.extend(data_blocks)\n",
        "        ecg_psg_status_blocks.extend(psg_status_blocks)\n",
        "\n",
        "# Process heart rate data\n",
        "hr_data_blocks = []\n",
        "hr_psg_status_blocks = []\n",
        "for filename in os.listdir(hr_directory):\n",
        "    if filename.endswith('.csv'):\n",
        "        hr_file_path = os.path.join(hr_directory, filename)\n",
        "        data_blocks, psg_status_blocks = process_data(hr_file_path, block_size=30, is_ecg=False)\n",
        "        hr_data_blocks.extend(data_blocks)\n",
        "        hr_psg_status_blocks.extend(psg_status_blocks)\n",
        "\n",
        "# Convert data to NumPy arrays\n",
        "ecg_data_array = np.array(ecg_data_blocks)\n",
        "ecg_psg_status_array = np.array(ecg_psg_status_blocks)\n",
        "hr_data_array = np.array(hr_data_blocks)\n",
        "hr_psg_status_array = np.array(hr_psg_status_blocks)"
      ],
      "metadata": {
        "id": "2AQNGJglsh-L"
      },
      "execution_count": 12,
      "outputs": []
    },
    {
      "cell_type": "code",
      "source": [
        "print(ecg_data_array.shape)"
      ],
      "metadata": {
        "colab": {
          "base_uri": "https://localhost:8080/"
        },
        "id": "QvyH2qq6s8Vq",
        "outputId": "ac9651ec-4569-4735-9a95-7375f77f268d"
      },
      "execution_count": 16,
      "outputs": [
        {
          "output_type": "stream",
          "name": "stdout",
          "text": [
            "(4791, 7680)\n"
          ]
        }
      ]
    },
    {
      "cell_type": "code",
      "source": [
        "print(hr_data_array.shape)"
      ],
      "metadata": {
        "colab": {
          "base_uri": "https://localhost:8080/"
        },
        "id": "SQZJqJGftCFK",
        "outputId": "6e31e1d7-1660-42dd-afa2-d182cee75732"
      },
      "execution_count": 17,
      "outputs": [
        {
          "output_type": "stream",
          "name": "stdout",
          "text": [
            "(4791, 30)\n"
          ]
        }
      ]
    },
    {
      "cell_type": "code",
      "source": [
        "# Shuffle data\n",
        "shuffle_indices = np.random.permutation(len(ecg_data_array))\n",
        "ecg_data_array_shuffled = ecg_data_array[shuffle_indices]\n",
        "ecg_psg_status_array_shuffled = ecg_psg_status_array[shuffle_indices]\n",
        "\n",
        "shuffle_indices = np.random.permutation(len(hr_data_array))\n",
        "hr_data_array_shuffled = hr_data_array[shuffle_indices]\n",
        "hr_psg_status_array_shuffled = hr_psg_status_array[shuffle_indices]\n",
        "\n",
        "np.save('/content/ecg_data_shuffled.npy', ecg_data_array_shuffled)\n",
        "np.save('/content/ecg_psg_status_shuffled.npy', ecg_psg_status_array_shuffled)\n",
        "np.save('/content/hr_data_shuffled.npy', hr_data_array_shuffled)\n",
        "np.save('/content/hr_psg_status_shuffled.npy', hr_psg_status_array_shuffled)\n"
      ],
      "metadata": {
        "id": "Xg0hdzEwq5Go"
      },
      "execution_count": 18,
      "outputs": []
    }
  ]
}