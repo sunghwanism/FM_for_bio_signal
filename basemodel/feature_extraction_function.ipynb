{
 "cells": [
  {
   "cell_type": "code",
   "execution_count": null,
   "metadata": {},
   "outputs": [],
   "source": [
    "import os\n",
    "import sys\n",
    "sys.path.append(\"../\")\n",
    "\n",
    "from tqdm.notebook import tqdm\n",
    "from preproc.featureExtractor import get_ecg_features, subject_extractor"
   ]
  },
  {
   "cell_type": "code",
   "execution_count": null,
   "metadata": {},
   "outputs": [],
   "source": [
    "BASE = '/NFS/Users/moonsh/data/mesa/preproc/'\n",
    "data_dir = os.path.join(BASE, 'final')\n",
    "save_dir = os.path.join(BASE, 'features')\n",
    "\n",
    "subject_ids = subject_extractor(data_dir)"
   ]
  },
  {
   "cell_type": "code",
   "execution_count": null,
   "metadata": {},
   "outputs": [],
   "source": [
    "for subj_id in tqdm(subject_ids):\n",
    "    get_ecg_features(subj_id, data_dir, save_dir)"
   ]
  }
 ],
 "metadata": {
  "kernelspec": {
   "display_name": "base",
   "language": "python",
   "name": "python3"
  },
  "language_info": {
   "codemirror_mode": {
    "name": "ipython",
    "version": 3
   },
   "file_extension": ".py",
   "mimetype": "text/x-python",
   "name": "python",
   "nbconvert_exporter": "python",
   "pygments_lexer": "ipython3",
   "version": "3.11.5"
  }
 },
 "nbformat": 4,
 "nbformat_minor": 2
}
