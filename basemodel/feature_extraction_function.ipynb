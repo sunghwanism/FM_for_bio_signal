{
 "cells": [
  {
   "cell_type": "code",
   "execution_count": null,
   "metadata": {},
   "outputs": [],
   "source": [
    "import os\n",
    "import sys\n",
    "sys.path.append(\"../\")\n",
    "\n",
    "from tqdm.notebook import tqdm\n",
    "import numpy as np\n",
    "from preproc.featureExtractor import get_ecg_features, subject_extractor, get_ecg_features_np\n",
    "\n",
    "import warnings\n",
    "warnings.filterwarnings('ignore')"
   ]
  },
  {
   "cell_type": "code",
   "execution_count": null,
   "metadata": {},
   "outputs": [],
   "source": [
    "BASE = '/NFS/Users/moonsh/data/mesa/preproc/'\n",
    "data_dir = os.path.join(BASE, 'npy')\n",
    "save_dir = os.path.join(BASE, 'features')\n",
    "\n",
    "subject_ids = subject_extractor(data_dir)"
   ]
  },
  {
   "cell_type": "code",
   "execution_count": null,
   "metadata": {},
   "outputs": [],
   "source": [
    "error = []\n",
    "for subj_id in tqdm(subject_ids):\n",
    "    try:\n",
    "        get_ecg_features_np(subj_id, data_dir, save_dir)\n",
    "    except:\n",
    "        print(f\"Error in Subject {subj_id}\")\n",
    "        error.append(subj_id)"
   ]
  }
 ],
 "metadata": {
  "kernelspec": {
   "display_name": "base",
   "language": "python",
   "name": "python3"
  },
  "language_info": {
   "codemirror_mode": {
    "name": "ipython",
    "version": 3
   },
   "file_extension": ".py",
   "mimetype": "text/x-python",
   "name": "python",
   "nbconvert_exporter": "python",
   "pygments_lexer": "ipython3",
   "version": "3.11.5"
  }
 },
 "nbformat": 4,
 "nbformat_minor": 2
}
