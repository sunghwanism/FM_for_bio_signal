{
 "cells": [
  {
   "cell_type": "code",
   "execution_count": 1,
   "metadata": {},
   "outputs": [
    {
     "name": "stderr",
     "output_type": "stream",
     "text": [
      "/data8/jungmin/anaconda3/envs/patchtst/lib/python3.9/site-packages/torch/cuda/__init__.py:138: UserWarning: CUDA initialization: The NVIDIA driver on your system is too old (found version 11060). Please update your GPU driver by downloading and installing a new version from the URL: http://www.nvidia.com/Download/index.aspx Alternatively, go to: https://pytorch.org to install a PyTorch version that has been compiled with your version of the CUDA driver. (Triggered internally at ../c10/cuda/CUDAFunctions.cpp:108.)\n",
      "  return torch._C._cuda_getDeviceCount() > 0\n"
     ]
    }
   ],
   "source": [
    "import os\n",
    "import sys\n",
    "sys.path.append('./')\n",
    "\n",
    "import args\n",
    "import argparse\n",
    "import logging\n",
    "\n",
    "import torch\n",
    "from models.AdversarialModel import AdversarialModel\n",
    "from models.FOCALModules import FOCAL\n",
    "from models.loss import FOCALLoss\n",
    "from data.EfficientDataset import MESAPairDataset\n",
    "from data.Augmentaion import init_augmenter\n",
    "\n",
    "import datetime\n",
    "import importlib"
   ]
  },
  {
   "cell_type": "markdown",
   "metadata": {},
   "source": []
  },
  {
   "cell_type": "code",
   "execution_count": 2,
   "metadata": {},
   "outputs": [
    {
     "name": "stdout",
     "output_type": "stream",
     "text": [
      "base_config: \n",
      " {'train_data_dir': '/data8/jungmin/uot_class/MIE1517_DL/FM_for_bio_signal/src/foundation/dataset/pair_small', 'val_data_dir': '/data8/jungmin/uot_class/MIE1517_DL/FM_for_bio_signal/src/foundation/dataset/pair', 'test_data_dir': '/NFS/Users/moonsh/data/mesa/preproc/pair_test', 'modalities': ['ecg', 'hr'], 'label_key': 'stage', 'subject_key': 'subject_idx', 'train_num_subjects': 100, 'test_num_subjects': 50, 'device': device(type='cpu'), 'log_save_dir': '/data8/jungmin/uot_class/MIE1517_DL/FM_for_bio_signal/logs'}\n"
     ]
    }
   ],
   "source": [
    "print(f\"base_config: \\n {args.base_config}\")\n",
    "# print(f\"focal_config: \\n {args.focal_config} \\n\")"
   ]
  },
  {
   "cell_type": "markdown",
   "metadata": {},
   "source": [
    "### DataLoader"
   ]
  },
  {
   "cell_type": "code",
   "execution_count": 3,
   "metadata": {},
   "outputs": [],
   "source": [
    "train_dataset = MESAPairDataset(file_path=args.base_config['train_data_dir'],\n",
    "                                    modalities=args.base_config['modalities'],\n",
    "                                    subject_idx=args.base_config['subject_key'],\n",
    "                                    stage=args.base_config['label_key'])\n",
    "train_loader = torch.utils.data.DataLoader(train_dataset, \n",
    "                                            batch_size=4,\n",
    "                                            shuffle=True,\n",
    "                                            num_workers=1)"
   ]
  },
  {
   "cell_type": "code",
   "execution_count": 4,
   "metadata": {},
   "outputs": [
    {
     "name": "stdout",
     "output_type": "stream",
     "text": [
      "14\n",
      "0\n",
      "torch.Size([4, 7680])\n",
      "torch.Size([4, 30])\n",
      "torch.Size([4])\n",
      "torch.Size([4])\n"
     ]
    }
   ],
   "source": [
    "print(train_dataset.__len__())\n",
    "\n",
    "for i , (raw_modal_1, raw_modal_2, subj, sleep) in enumerate(train_loader):\n",
    "    print(i)\n",
    "    print(raw_modal_1.shape)\n",
    "    print(raw_modal_2.shape)\n",
    "    print(subj.shape)\n",
    "    print(sleep.shape)\n",
    "    \n",
    "    break"
   ]
  },
  {
   "cell_type": "markdown",
   "metadata": {},
   "source": [
    "### Augmentation"
   ]
  },
  {
   "cell_type": "code",
   "execution_count": 5,
   "metadata": {},
   "outputs": [
    {
     "name": "stdout",
     "output_type": "stream",
     "text": [
      "data_config: \n",
      " {'modalities': ['ecg', 'hr'], 'label_key': 'stage', 'augmenter': 'GaussianNoise', 'augmenter_config': {'GaussianNoise': {'max_noise_std': 0.1}, 'AmplitudeScale': {'amplitude_scale': 0.5}}, 'num_classes': None} \n",
      "\n"
     ]
    }
   ],
   "source": [
    "print(f\"data_config: \\n {args.data_config} \\n\")"
   ]
  },
  {
   "cell_type": "code",
   "execution_count": 6,
   "metadata": {},
   "outputs": [
    {
     "name": "stdout",
     "output_type": "stream",
     "text": [
      "Loading GaussianNoise augmenter...\n"
     ]
    }
   ],
   "source": [
    "augmenter = init_augmenter(args)"
   ]
  },
  {
   "cell_type": "markdown",
   "metadata": {},
   "source": []
  },
  {
   "cell_type": "code",
   "execution_count": 7,
   "metadata": {},
   "outputs": [
    {
     "data": {
      "text/plain": [
       "torch.Size([4, 7680])"
      ]
     },
     "execution_count": 7,
     "metadata": {},
     "output_type": "execute_result"
    }
   ],
   "source": [
    "raw_modal_1.shape"
   ]
  },
  {
   "cell_type": "code",
   "execution_count": 8,
   "metadata": {},
   "outputs": [
    {
     "data": {
      "text/plain": [
       "torch.Size([4, 7680])"
      ]
     },
     "execution_count": 8,
     "metadata": {},
     "output_type": "execute_result"
    }
   ],
   "source": [
    "# It changes the shape of input: (B, seq) -> (B\n",
    "augmenter(raw_modal_1).shape"
   ]
  },
  {
   "cell_type": "code",
   "execution_count": 9,
   "metadata": {},
   "outputs": [
    {
     "name": "stdout",
     "output_type": "stream",
     "text": [
      "torch.Size([4, 7680])\n",
      "torch.Size([4, 30])\n",
      "torch.Size([4, 7680])\n",
      "torch.Size([4, 30])\n",
      "torch.Size([4, 7680])\n",
      "torch.Size([4, 30])\n",
      "torch.Size([2, 7680])\n",
      "torch.Size([2, 30])\n"
     ]
    }
   ],
   "source": [
    "for i , (raw_modal_1, raw_modal_2, subj, sleep) in enumerate(train_loader):\n",
    "    aug_modal_1 = augmenter(raw_modal_1)\n",
    "    aug_modal_2 = augmenter(raw_modal_2)\n",
    "    print(aug_modal_1.shape)\n",
    "    print(aug_modal_2.shape)"
   ]
  },
  {
   "cell_type": "markdown",
   "metadata": {},
   "source": [
    "### Backbone"
   ]
  },
  {
   "cell_type": "code",
   "execution_count": 10,
   "metadata": {},
   "outputs": [
    {
     "data": {
      "text/plain": [
       "<module 'args' from '/data8/jungmin/uot_class/MIE1517_DL/FM_for_bio_signal/src/foundation/args.py'>"
      ]
     },
     "execution_count": 10,
     "metadata": {},
     "output_type": "execute_result"
    }
   ],
   "source": [
    "import importlib\n",
    "from models.Backbone import DeepSense\n",
    "importlib.reload(args)"
   ]
  },
  {
   "cell_type": "code",
   "execution_count": 11,
   "metadata": {},
   "outputs": [
    {
     "name": "stdout",
     "output_type": "stream",
     "text": [
      "[1, 16, 32]\n",
      "ecg extractor is initialized.\n",
      "hr extractor is initialized.\n",
      "ecg recurrent layer is initialized.\n",
      "hr recurrent layer is initialized.\n",
      "** Finished Initializing DeepSense Backbone **\n"
     ]
    }
   ],
   "source": [
    "backbone_model = DeepSense(args)\n",
    "# dims = [1, 16, 32]"
   ]
  },
  {
   "cell_type": "code",
   "execution_count": 12,
   "metadata": {},
   "outputs": [
    {
     "data": {
      "text/plain": [
       "torch.Size([2, 7680])"
      ]
     },
     "execution_count": 12,
     "metadata": {},
     "output_type": "execute_result"
    }
   ],
   "source": [
    "aug_modal_1.shape"
   ]
  },
  {
   "cell_type": "code",
   "execution_count": 13,
   "metadata": {},
   "outputs": [
    {
     "data": {
      "text/plain": [
       "120.0"
      ]
     },
     "execution_count": 13,
     "metadata": {},
     "output_type": "execute_result"
    }
   ],
   "source": [
    "7680/64"
   ]
  },
  {
   "cell_type": "code",
   "execution_count": 14,
   "metadata": {},
   "outputs": [
    {
     "name": "stdout",
     "output_type": "stream",
     "text": [
      "mod1 cnn feature shape: torch.Size([2, 64, 280]) mod2 cnn feature shape: torch.Size([2, 64, 30])\n",
      "mod1 rnn feature shape: torch.Size([2, 17920]) mod2 rnn feature shape: torch.Size([2, 1920])\n"
     ]
    }
   ],
   "source": [
    "enc_mod_features = backbone_model(aug_modal_1, aug_modal_2)"
   ]
  },
  {
   "cell_type": "code",
   "execution_count": 19,
   "metadata": {},
   "outputs": [
    {
     "data": {
      "text/plain": [
       "{'ecg': tensor([[ 0.0373, -0.0691,  0.0893, -0.1336,  0.0277,  0.0348,  0.0976,  0.0775,\n",
       "           0.0362, -0.1074,  0.0804, -0.1162,  0.0019,  0.0435,  0.0680, -0.1362,\n",
       "           0.0716, -0.1131, -0.0832, -0.0562, -0.0432,  0.0282,  0.0135, -0.0318,\n",
       "          -0.1062,  0.0794, -0.0139,  0.0276,  0.0592,  0.1105,  0.1581,  0.0352,\n",
       "           0.1384, -0.1379, -0.0503,  0.0486,  0.0564,  0.1320, -0.1415,  0.0065,\n",
       "          -0.0746, -0.0368, -0.0906,  0.0764, -0.0301,  0.0606,  0.0472, -0.0630,\n",
       "           0.0786,  0.0239, -0.1030,  0.0963,  0.0010, -0.0235, -0.0784, -0.0177,\n",
       "          -0.0276,  0.1022, -0.0537, -0.1328,  0.1090, -0.0399,  0.0980,  0.0826],\n",
       "         [ 0.0545, -0.0644,  0.0856, -0.1231,  0.0497,  0.0173,  0.0911,  0.0714,\n",
       "           0.0283, -0.1396,  0.0759, -0.1161, -0.0204, -0.0179,  0.0262, -0.1240,\n",
       "           0.1291, -0.1156, -0.0863, -0.0429, -0.0141,  0.0430,  0.0152, -0.0129,\n",
       "          -0.1115,  0.0548,  0.0018,  0.0412,  0.0673,  0.1116,  0.1722,  0.0228,\n",
       "           0.1235, -0.1399, -0.0252,  0.0069,  0.0816,  0.1348, -0.1580,  0.0102,\n",
       "          -0.0665, -0.0575, -0.0831,  0.0418, -0.0368,  0.0887,  0.0241, -0.0591,\n",
       "           0.0905,  0.0052, -0.1382,  0.0707, -0.0183,  0.0159, -0.0627, -0.0332,\n",
       "          -0.0342,  0.0666, -0.0268, -0.1442,  0.1119, -0.0748,  0.1028,  0.1009]],\n",
       "        grad_fn=<AddmmBackward0>),\n",
       " 'hr': tensor([[-0.1093,  0.0244, -0.1187, -0.0585,  0.0480, -0.0093, -0.1202,  0.1538,\n",
       "           0.0854, -0.0386, -0.0108,  0.0422, -0.0013, -0.0105,  0.0962,  0.0679,\n",
       "           0.0802, -0.1179, -0.0741,  0.0413,  0.0278, -0.0148, -0.1168, -0.0973,\n",
       "          -0.0671, -0.0826,  0.1298, -0.0340, -0.0239,  0.0824,  0.0611,  0.1297,\n",
       "          -0.1442,  0.0954,  0.0717,  0.1009, -0.1386, -0.0631, -0.0323, -0.0953,\n",
       "           0.0841, -0.0552, -0.0076, -0.0684,  0.0420, -0.0337,  0.0929,  0.0598,\n",
       "           0.1310, -0.1329,  0.1027, -0.0093,  0.0160,  0.0789,  0.0531, -0.0220,\n",
       "          -0.0420,  0.0387, -0.0305,  0.0615,  0.0216,  0.0505, -0.1365,  0.0465],\n",
       "         [-0.0954, -0.0210, -0.0975, -0.0753, -0.0164, -0.0143, -0.1356,  0.1250,\n",
       "           0.1262, -0.0952, -0.0383,  0.0834, -0.0362, -0.0148,  0.0943,  0.0238,\n",
       "           0.0804, -0.0725, -0.0957,  0.0066,  0.0315, -0.0138, -0.1299, -0.0408,\n",
       "          -0.1041, -0.0886,  0.1318, -0.0767, -0.0433,  0.0235,  0.0724,  0.0666,\n",
       "          -0.1213,  0.0707,  0.0658,  0.0865, -0.1714, -0.0618, -0.0036, -0.0924,\n",
       "           0.0848, -0.0889,  0.0139, -0.1015,  0.0310, -0.0518,  0.1217,  0.0435,\n",
       "           0.1681, -0.1353,  0.0677,  0.0037,  0.0049,  0.0713,  0.0213,  0.0084,\n",
       "          -0.0096,  0.0175, -0.0466,  0.0960,  0.0452,  0.0254, -0.1074,  0.0349]],\n",
       "        grad_fn=<AddmmBackward0>)}"
      ]
     },
     "execution_count": 19,
     "metadata": {},
     "output_type": "execute_result"
    }
   ],
   "source": [
    "enc_mod_features"
   ]
  },
  {
   "cell_type": "code",
   "execution_count": 18,
   "metadata": {},
   "outputs": [
    {
     "name": "stdout",
     "output_type": "stream",
     "text": [
      "torch.Size([2, 64])\n",
      "torch.Size([2, 64])\n"
     ]
    }
   ],
   "source": [
    "print(enc_mod_features['ecg'].shape)\n",
    "print(enc_mod_features['hr'].shape)"
   ]
  }
 ],
 "metadata": {
  "kernelspec": {
   "display_name": "Python 3.9.16 64-bit ('patchtst')",
   "language": "python",
   "name": "python3"
  },
  "language_info": {
   "codemirror_mode": {
    "name": "ipython",
    "version": 3
   },
   "file_extension": ".py",
   "mimetype": "text/x-python",
   "name": "python",
   "nbconvert_exporter": "python",
   "pygments_lexer": "ipython3",
   "version": "3.9.16"
  },
  "orig_nbformat": 4,
  "vscode": {
   "interpreter": {
    "hash": "8e0a0ed8c9d253a0f21f5456fde53cd73d7f33b56362cce5f62479a7d0aeeb66"
   }
  }
 },
 "nbformat": 4,
 "nbformat_minor": 2
}
