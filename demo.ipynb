{
 "cells": [
  {
   "cell_type": "code",
   "execution_count": null,
   "metadata": {},
   "outputs": [],
   "source": [
    "import os\n",
    "import sys\n",
    "sys.path.append(\"./src\")\n",
    "\n",
    "import matplotlib.pyplot as plt\n",
    "from IPython.display import Image\n",
    "\n",
    "import pandas as pd\n",
    "\n",
    "from demoutils import predict_using_individual_model, loss_acc_plotting, predict_using_fm_classifier"
   ]
  },
  {
   "cell_type": "markdown",
   "metadata": {},
   "source": [
    "## Overview"
   ]
  },
  {
   "cell_type": "code",
   "execution_count": null,
   "metadata": {},
   "outputs": [],
   "source": [
    "Image(filename='./asset/overall_task_architecture.png')"
   ]
  },
  {
   "cell_type": "markdown",
   "metadata": {},
   "source": [
    "## Dataset"
   ]
  },
  {
   "cell_type": "markdown",
   "metadata": {},
   "source": [
    "### MESA Data"
   ]
  },
  {
   "cell_type": "code",
   "execution_count": null,
   "metadata": {},
   "outputs": [],
   "source": [
    "display(Image(\"./asset/heartrate_0001.png\"))\n",
    "display(Image(\"./asset/actiography_0001.png\"))\n",
    "display(Image(\"./asset/psg_0001.png\"))"
   ]
  },
  {
   "cell_type": "markdown",
   "metadata": {},
   "source": [
    "### Apple Watch Data\n",
    "- We test 3 people apple watch data"
   ]
  },
  {
   "cell_type": "code",
   "execution_count": null,
   "metadata": {},
   "outputs": [],
   "source": [
    "df = pd.read_csv(\"./preproc/outputs/applewatch_public/c1_data.csv\")\n",
    "\n",
    "fig, ax = plt.subplots(3, 1, figsize=(12, 5))\n",
    "\n",
    "ax[0].plot(df[\"heart_rate\"])\n",
    "ax[0].set_title(\"Heart Rate\")\n",
    "\n",
    "# ax[1].plot(df[\"x_move\"])\n",
    "# ax[1].plot(df[\"y_move\"])\n",
    "# ax[1].plot(df[\"z_move\"])\n",
    "# ax[1].legend([\"X\", \"Y\", \"Z\"])\n",
    "ax[1].plot(df['step_count'])\n",
    "ax[1].set_title(\"Acceleration\")\n",
    "\n",
    "ax[2].plot(df[\"psg_status\"])\n",
    "ax[2].set_title(\"PSG Status (Sleep Stages)\")\n",
    "\n",
    "plt.tight_layout()\n",
    "plt.show()"
   ]
  },
  {
   "cell_type": "markdown",
   "metadata": {},
   "source": [
    "## Training Demo"
   ]
  },
  {
   "cell_type": "markdown",
   "metadata": {},
   "source": [
    "### Foundation Model Training"
   ]
  },
  {
   "cell_type": "code",
   "execution_count": null,
   "metadata": {},
   "outputs": [],
   "source": [
    "display(Image(\"./asset/plot_log_modified.png\"))\n"
   ]
  },
  {
   "cell_type": "markdown",
   "metadata": {},
   "source": [
    "### Individual Training"
   ]
  },
  {
   "cell_type": "code",
   "execution_count": null,
   "metadata": {},
   "outputs": [],
   "source": [
    "display(Image(\"./asset/0558 self Learning Curve 20240401_110339.png\"))\n",
    "display(Image(\"./asset/0565 self Learning Curve 20240401_110720.png\"))\n",
    "display(Image(\"./asset/0560 self Learning Curve 20240401_110649.png\"))"
   ]
  },
  {
   "cell_type": "code",
   "execution_count": null,
   "metadata": {},
   "outputs": [],
   "source": [
    "subj_index = \"0558\"\n",
    "ind_558_acc, ind_558_f1 = predict_using_individual_model(subj_index)"
   ]
  },
  {
   "cell_type": "code",
   "execution_count": null,
   "metadata": {},
   "outputs": [],
   "source": [
    "subj_index = \"0565\"\n",
    "ind_565_acc, ind_565_f1 = predict_using_individual_model(subj_index)"
   ]
  },
  {
   "cell_type": "code",
   "execution_count": null,
   "metadata": {},
   "outputs": [],
   "source": [
    "subj_index = \"0560\"\n",
    "ind_560_acc, ind_560_f1 = predict_using_individual_model(subj_index)"
   ]
  },
  {
   "cell_type": "code",
   "execution_count": null,
   "metadata": {},
   "outputs": [],
   "source": [
    "subj_index = \"0571\"\n",
    "ind_571_acc, ind_571_f1 = predict_using_individual_model(subj_index)"
   ]
  },
  {
   "cell_type": "code",
   "execution_count": null,
   "metadata": {},
   "outputs": [],
   "source": [
    "subj_index = \"0583\"\n",
    "ind_583_acc, ind_583_f1 = predict_using_individual_model(subj_index)"
   ]
  },
  {
   "cell_type": "markdown",
   "metadata": {},
   "source": [
    "### Individual Training with Foundation Model"
   ]
  },
  {
   "cell_type": "code",
   "execution_count": null,
   "metadata": {},
   "outputs": [],
   "source": [
    "subj_index = \"0558\"\n",
    "model_index = \"0143\"\n",
    "\n",
    "loss_acc_plotting(subj_index, model_index)"
   ]
  },
  {
   "cell_type": "code",
   "execution_count": null,
   "metadata": {},
   "outputs": [],
   "source": [
    "subj_index = \"0560\"\n",
    "model_index = \"0143\"\n",
    "loss_acc_plotting(subj_index, model_index)"
   ]
  },
  {
   "cell_type": "code",
   "execution_count": null,
   "metadata": {},
   "outputs": [],
   "source": [
    "subj_index = \"0565\"\n",
    "model_index = \"0143\"\n",
    "loss_acc_plotting(subj_index, model_index)\n"
   ]
  },
  {
   "cell_type": "code",
   "execution_count": null,
   "metadata": {},
   "outputs": [],
   "source": [
    "subj_index = \"0571\"\n",
    "model_index = \"0143\"\n",
    "loss_acc_plotting(subj_index, model_index)\n"
   ]
  },
  {
   "cell_type": "code",
   "execution_count": null,
   "metadata": {},
   "outputs": [],
   "source": [
    "subj_index = \"0583\"\n",
    "model_index = \"0143\"\n",
    "loss_acc_plotting(subj_index, model_index)\n"
   ]
  },
  {
   "cell_type": "code",
   "execution_count": null,
   "metadata": {},
   "outputs": [],
   "source": [
    "fm_558_acc, fm_558_f1 = predict_using_fm_classifier(subj_index=\"0558\")"
   ]
  },
  {
   "cell_type": "code",
   "execution_count": null,
   "metadata": {},
   "outputs": [],
   "source": [
    "fm_565_acc, fm_565_f1 = predict_using_fm_classifier(subj_index=\"0565\")"
   ]
  },
  {
   "cell_type": "code",
   "execution_count": null,
   "metadata": {},
   "outputs": [],
   "source": [
    "fm_560_acc, fm_560_f1 = predict_using_fm_classifier(subj_index=\"0560\")"
   ]
  },
  {
   "cell_type": "code",
   "execution_count": null,
   "metadata": {},
   "outputs": [],
   "source": [
    "fm_571_acc, fm_571_f1 = predict_using_fm_classifier(subj_index=\"0571\")"
   ]
  },
  {
   "cell_type": "code",
   "execution_count": null,
   "metadata": {},
   "outputs": [],
   "source": [
    "fm_583_acc, fm_583_f1 = predict_using_fm_classifier(subj_index=\"0583\")"
   ]
  },
  {
   "cell_type": "markdown",
   "metadata": {},
   "source": [
    "## Compare individual Training VS. FM Training"
   ]
  },
  {
   "cell_type": "code",
   "execution_count": null,
   "metadata": {},
   "outputs": [],
   "source": [
    "print(\"Subject 0558\")\n",
    "print(\"----------------\"*3)\n",
    "print(\"Individual Model Accuracy: \", ind_558_acc)\n",
    "print(\"*Foundation Model Accuracy: \", fm_558_acc)\n",
    "\n",
    "print(\"Individual Model F1 Score: \", ind_558_f1)\n",
    "print(\"*Foundation Model F1 Score: \", fm_558_f1)\n",
    "print(\"----------------\"*3)\n",
    "\n",
    "if fm_558_acc > ind_558_acc:\n",
    "    print(\"Foundation Model is better than Individual Model in terms of Accuracy\")\n",
    "    \n",
    "if fm_558_f1 > ind_558_f1:\n",
    "    print(\"Foundation Model is better than Individual Model in terms of F1 Score\")"
   ]
  },
  {
   "cell_type": "code",
   "execution_count": null,
   "metadata": {},
   "outputs": [],
   "source": [
    "print(\"Subject 0565\")\n",
    "print(\"----------------\"*3)\n",
    "print(\"Individual Model Accuracy: \", ind_565_acc)\n",
    "print(\"*Foundation Model Accuracy: \", fm_565_acc)\n",
    "\n",
    "print(\"Individual Model F1 Score: \", ind_565_f1)\n",
    "print(\"*Foundation Model F1 Score: \", fm_565_f1)\n",
    "print(\"----------------\"*3)\n",
    "\n",
    "if fm_565_acc > ind_565_acc:\n",
    "    print(\"Foundation Model is better than Individual Model in terms of Accuracy\")\n",
    "\n",
    "if fm_565_f1 > ind_565_f1:\n",
    "    print(\"Foundation Model is better than Individual Model in terms of F1 Score\")"
   ]
  },
  {
   "cell_type": "code",
   "execution_count": null,
   "metadata": {},
   "outputs": [],
   "source": [
    "print(\"Subject 0560\")\n",
    "print(\"----------------\"*3)\n",
    "print(\"Individual Model Accuracy: \", ind_560_acc)\n",
    "print(\"Foundation Model Accuracy: \", fm_560_acc)\n",
    "\n",
    "print(\"Individual Model F1 Score: \", ind_560_f1)\n",
    "print(\"Foundation Model F1 Score: \", fm_560_f1)\n",
    "print(\"----------------\"*3)\n",
    "\n",
    "if fm_560_acc > ind_560_acc:\n",
    "    print(\"Foundation Model is better than Individual Model in terms of Accuracy\")\n",
    "    \n",
    "if fm_560_f1 > ind_560_f1:\n",
    "    print(\"Foundation Model is better than Individual Model in terms of F1 Score\")\n",
    "    "
   ]
  },
  {
   "cell_type": "code",
   "execution_count": null,
   "metadata": {},
   "outputs": [],
   "source": [
    "print(\"Subject 0571\")\n",
    "print(\"----------------\"*3)\n",
    "print(\"Individual Model Accuracy: \", ind_571_acc)\n",
    "print(\"Foundation Model Accuracy: \", fm_571_acc)\n",
    "\n",
    "print(\"Individual Model F1 Score: \", ind_571_f1)\n",
    "print(\"Foundation Model F1 Score: \", fm_571_f1)\n",
    "print(\"----------------\"*3)\n",
    "\n",
    "if fm_571_acc > ind_571_acc:\n",
    "    print(\"Foundation Model is better than Individual Model in terms of Accuracy\")\n",
    "    \n",
    "if fm_571_f1 > ind_571_f1:\n",
    "    print(\"Foundation Model is better than Individual Model in terms of F1 Score\")\n",
    "    "
   ]
  },
  {
   "cell_type": "code",
   "execution_count": null,
   "metadata": {},
   "outputs": [],
   "source": [
    "print(\"Subject 0583\")\n",
    "print(\"----------------\"*3)\n",
    "print(\"Individual Model Accuracy: \", ind_583_acc)\n",
    "print(\"Foundation Model Accuracy: \", fm_583_acc)\n",
    "\n",
    "print(\"Individual Model F1 Score: \", ind_583_f1)\n",
    "print(\"Foundation Model F1 Score: \", fm_583_f1)\n",
    "print(\"----------------\"*3)\n",
    "\n",
    "if fm_571_acc > ind_583_acc:\n",
    "    print(\"Foundation Model is better than Individual Model in terms of Accuracy\")\n",
    "    \n",
    "if fm_571_f1 > ind_583_f1:\n",
    "    print(\"Foundation Model is better than Individual Model in terms of F1 Score\")\n",
    "    "
   ]
  },
  {
   "cell_type": "code",
   "execution_count": null,
   "metadata": {},
   "outputs": [],
   "source": []
  },
  {
   "cell_type": "code",
   "execution_count": null,
   "metadata": {},
   "outputs": [],
   "source": []
  }
 ],
 "metadata": {
  "kernelspec": {
   "display_name": "FM_for_biosignal",
   "language": "python",
   "name": "python3"
  },
  "language_info": {
   "codemirror_mode": {
    "name": "ipython",
    "version": 3
   },
   "file_extension": ".py",
   "mimetype": "text/x-python",
   "name": "python",
   "nbconvert_exporter": "python",
   "pygments_lexer": "ipython3",
   "version": "3.8.18"
  }
 },
 "nbformat": 4,
 "nbformat_minor": 2
}
