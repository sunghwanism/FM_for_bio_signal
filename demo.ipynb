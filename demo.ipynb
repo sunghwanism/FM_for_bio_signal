{
 "cells": [
  {
   "cell_type": "code",
   "execution_count": null,
   "metadata": {},
   "outputs": [],
   "source": [
    "import os\n",
    "import sys\n",
    "sys.path.append(\"./src\")\n",
    "\n",
    "import matplotlib.pyplot as plt\n",
    "from IPython.display import Image\n",
    "\n",
    "import pandas as pd"
   ]
  },
  {
   "cell_type": "markdown",
   "metadata": {},
   "source": [
    "## Overview"
   ]
  },
  {
   "cell_type": "code",
   "execution_count": null,
   "metadata": {},
   "outputs": [],
   "source": [
    "Image(filename='./asset/overall_task_architecture.png')"
   ]
  },
  {
   "cell_type": "markdown",
   "metadata": {},
   "source": [
    "## Dataset"
   ]
  },
  {
   "cell_type": "markdown",
   "metadata": {},
   "source": [
    "### MESA Data"
   ]
  },
  {
   "cell_type": "code",
   "execution_count": null,
   "metadata": {},
   "outputs": [],
   "source": [
    "display(Image(\"./asset/heartrate_0001.png\"))\n",
    "display(Image(\"./asset/actiography_0001.png\"))\n",
    "display(Image(\"./asset/psg_0001.png\"))"
   ]
  },
  {
   "cell_type": "markdown",
   "metadata": {},
   "source": [
    "### Apple Watch Data\n",
    "- We test 3 people apple watch data"
   ]
  },
  {
   "cell_type": "code",
   "execution_count": null,
   "metadata": {},
   "outputs": [],
   "source": [
    "df = pd.read_csv(\"./preproc/outputs/applewatch_public/c1_data.csv\")\n",
    "\n",
    "fig, ax = plt.subplots(3, 1, figsize=(12, 5))\n",
    "\n",
    "ax[0].plot(df[\"heart_rate\"])\n",
    "ax[0].set_title(\"Heart Rate\")\n",
    "\n",
    "# ax[1].plot(df[\"x_move\"])\n",
    "# ax[1].plot(df[\"y_move\"])\n",
    "# ax[1].plot(df[\"z_move\"])\n",
    "# ax[1].legend([\"X\", \"Y\", \"Z\"])\n",
    "ax[1].plot(df['step_count'])\n",
    "ax[1].set_title(\"Acceleration\")\n",
    "\n",
    "ax[2].plot(df[\"psg_status\"])\n",
    "ax[2].set_title(\"PSG Status (Sleep Stages)\")\n",
    "\n",
    "plt.tight_layout()\n",
    "plt.show()"
   ]
  },
  {
   "cell_type": "markdown",
   "metadata": {},
   "source": [
    "## Training Demo"
   ]
  },
  {
   "cell_type": "markdown",
   "metadata": {},
   "source": [
    "### Foundation Model Training"
   ]
  },
  {
   "cell_type": "code",
   "execution_count": null,
   "metadata": {},
   "outputs": [],
   "source": [
    "# Learning Curve of the Foundation model"
   ]
  },
  {
   "cell_type": "code",
   "execution_count": null,
   "metadata": {},
   "outputs": [],
   "source": []
  },
  {
   "cell_type": "code",
   "execution_count": null,
   "metadata": {},
   "outputs": [],
   "source": []
  },
  {
   "cell_type": "markdown",
   "metadata": {},
   "source": [
    "### Individual Training - MESA"
   ]
  },
  {
   "cell_type": "code",
   "execution_count": null,
   "metadata": {},
   "outputs": [],
   "source": [
    "# Learning Curve about each subject"
   ]
  },
  {
   "cell_type": "code",
   "execution_count": null,
   "metadata": {},
   "outputs": [],
   "source": [
    "# result on each subjects\n",
    "\n",
    "# confusion Matrix\n",
    "# Accuracy, F1-score# result on each subjects\n",
    "# DataLoader -> Test function -> Get the result\n",
    "\n",
    "# confusion Matrix\n",
    "# Accuracy, F1-score\n",
    "\n",
    "predict_using_individual_model(subj_index)"
   ]
  },
  {
   "cell_type": "markdown",
   "metadata": {},
   "source": [
    "### Individual Training - Apple Watch"
   ]
  },
  {
   "cell_type": "code",
   "execution_count": null,
   "metadata": {},
   "outputs": [],
   "source": [
    "# Learning Curve about each subject"
   ]
  },
  {
   "cell_type": "code",
   "execution_count": null,
   "metadata": {},
   "outputs": [],
   "source": [
    "# result on each subjects\n",
    "# DataLoader -> Test function -> Get the result\n",
    "\n",
    "# confusion Matrix\n",
    "# Accuracy, F1-score\n",
    "\n",
    "predict_using_individual_model(subj_index)"
   ]
  },
  {
   "cell_type": "code",
   "execution_count": null,
   "metadata": {},
   "outputs": [],
   "source": []
  },
  {
   "cell_type": "markdown",
   "metadata": {},
   "source": [
    "### Individual Training with Foundation Model - MESA"
   ]
  },
  {
   "cell_type": "code",
   "execution_count": null,
   "metadata": {},
   "outputs": [],
   "source": [
    "MultiModal_FM_MESA = Load_Foundation_Model(FMPATH)\n",
    "\n",
    "# Image() # Learning Curve about each subject -> (1, 5)"
   ]
  },
  {
   "cell_type": "code",
   "execution_count": null,
   "metadata": {},
   "outputs": [],
   "source": [
    "# result on each subjects\n",
    "# DataLoader -> Test function -> Get the result\n",
    "\n",
    "# confusion Matrix\n",
    "# Accuracy, F1-score"
   ]
  },
  {
   "cell_type": "code",
   "execution_count": null,
   "metadata": {},
   "outputs": [],
   "source": []
  },
  {
   "cell_type": "markdown",
   "metadata": {},
   "source": [
    "### Individual Training with Foundation Model - Apple Watch"
   ]
  },
  {
   "cell_type": "code",
   "execution_count": null,
   "metadata": {},
   "outputs": [],
   "source": [
    "MultiModal_FM_APPLE = Load_Foundation_Model(FMPATH)\n",
    "\n",
    "# Image() # Learning Curve about each subject -> (1, 3)"
   ]
  },
  {
   "cell_type": "code",
   "execution_count": null,
   "metadata": {},
   "outputs": [],
   "source": [
    "# result on each subjects\n",
    "# DataLoader -> Test function -> Get the result\n",
    "\n",
    "# confusion Matrix\n",
    "# Accuracy, F1-score"
   ]
  }
 ],
 "metadata": {
  "kernelspec": {
   "display_name": "FM_for_biosignal",
   "language": "python",
   "name": "python3"
  },
  "language_info": {
   "codemirror_mode": {
    "name": "ipython",
    "version": 3
   },
   "file_extension": ".py",
   "mimetype": "text/x-python",
   "name": "python",
   "nbconvert_exporter": "python",
   "pygments_lexer": "ipython3",
   "version": "3.8.18"
  }
 },
 "nbformat": 4,
 "nbformat_minor": 2
}
