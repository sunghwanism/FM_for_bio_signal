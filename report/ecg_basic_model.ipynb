{
 "cells": [
  {
   "cell_type": "code",
   "execution_count": 1,
   "metadata": {},
   "outputs": [
    {
     "data": {
      "text/plain": [
       "<torch._C.Generator at 0x1a8845fd690>"
      ]
     },
     "execution_count": 1,
     "metadata": {},
     "output_type": "execute_result"
    }
   ],
   "source": [
    "import torch\n",
    "from torch.utils.data import Dataset, DataLoader\n",
    "import torch.nn as nn\n",
    "import torch.nn.functional as F\n",
    "import torch.optim as optim\n",
    "import matplotlib.pyplot as plt\n",
    "from torch.utils.data import random_split\n",
    "\n",
    "import torcheval.metrics.functional as metrics\n",
    "\n",
    "import pandas as pd \n",
    "import numpy as np\n",
    "from tqdm import tqdm\n",
    "\n",
    "torch.manual_seed(1000) # set the random seed"
   ]
  },
  {
   "cell_type": "code",
   "execution_count": 2,
   "metadata": {},
   "outputs": [],
   "source": [
    "\n",
    "class SleepDataset(Dataset):\n",
    "    def __init__(self, hr_file, ecg_file, window_size=30):\n",
    "        self.df1 = pd.read_csv(hr_file)\n",
    "        self.df2 = pd.read_csv(ecg_file)\n",
    "        self.window_size = window_size\n",
    "\n",
    "        self.freq1 = 1\n",
    "        self.freq2 = 256\n",
    "\n",
    "        \n",
    "    def __len__(self):\n",
    "        len1 = len(self.df1)/(self.freq1*self.window_size)\n",
    "        len2 = len(self.df2)/(self.freq2*self.window_size)\n",
    "        #should be the same but just in case \n",
    "        return round(min(len1,len2))\n",
    "\n",
    "    def __getitem__(self, idx):\n",
    "        start_window1 = self.window_size*idx*self.freq1\n",
    "        start_window2 = self.window_size*idx*self.freq2\n",
    "        # Extract heart rate data points and label for the current window\n",
    "        hr = self.df1['heart_rate'].iloc[start_window1:start_window1+self.window_size*self.freq1].values\n",
    "        labels = self.df1['psg_status'].iloc[start_window1]\n",
    "        #optional: combine labels\n",
    "        #labels = np.where(labels != 0, 1, labels)\n",
    "        if labels in [2,3]:\n",
    "            labels = 2\n",
    "        elif labels in [4,5]:\n",
    "            labels = 3\n",
    "\n",
    "            \n",
    "\n",
    "        ecg = self.df2['ECG'].iloc[start_window2:start_window2+self.window_size*self.freq2].values\n",
    "\n",
    "        # Convert to PyTorch tensors\n",
    "        hr = torch.tensor(hr, dtype=torch.float).unsqueeze(0)  # Add extra dimension at index 0\n",
    "        labels = torch.tensor(labels, dtype=torch.long)\n",
    "        ecg = torch.tensor(ecg, dtype=torch.float).unsqueeze(0)  # Add extra dimension at index 0\n",
    "\n",
    "\n",
    "\n",
    "        return hr, ecg, labels\n",
    "\n",
    "# Create an instance of the CustomDataset\n",
    "dataset = SleepDataset(r'mesa_preproc/final/subject_0002.csv',r'mesa_preproc/final/subject_0002_ecg.csv')\n",
    "\n",
    "# Create a PyTorch DataLoader\n",
    "batch_size = 64\n",
    "dataloader = DataLoader(dataset, batch_size=batch_size, shuffle=True)\n",
    "\n",
    "\n",
    "    "
   ]
  },
  {
   "cell_type": "code",
   "execution_count": 4,
   "metadata": {},
   "outputs": [],
   "source": [
    "# based on: https://github.com/akaraspt/tinysleepnet\n",
    "\n",
    "class SleepNet_ECG(nn.Module):\n",
    "    def __init__(self):\n",
    "        super(SleepNet_ECG,self).__init__()\n",
    "        self.pool1 = nn.MaxPool1d(8, 8) #kernel_size, stride\n",
    "        self.pool2 = nn.MaxPool1d(4, 4) #kernel_size, stride\n",
    "\n",
    "        self.conv1 = nn.Conv1d(1, 128, 8) #in_channels, out_chanels, kernel_size\n",
    "        self.conv2 = nn.Conv1d(128, 128, 8) #in_channels, out_chanels, kernel_size\n",
    "\n",
    "        self.dropout = nn.Dropout(0.5)\n",
    "        self.lstm = nn.LSTM(128,128)\n",
    "        \n",
    "\n",
    "        self.fc1 = nn.Linear(29952, 32)\n",
    "        self.fc2 = nn.Linear(32, 4)\n",
    "\n",
    "        \n",
    "\n",
    "    def forward(self, ecg):\n",
    "\n",
    "        ecg = self.pool1(ecg)\n",
    "        ecg = self.dropout(ecg)\n",
    "        ecg = F.relu(self.conv1(ecg))\n",
    "        ecg = F.relu(self.conv2(ecg))\n",
    "        ecg = self.pool2(F.relu(self.conv2(ecg)))\n",
    "        ecg = self.dropout(ecg)\n",
    "\n",
    "\n",
    "        # Transpose dimensions for LSTM input\n",
    "        ecg = ecg.permute(2, 0, 1)  # Shape: [seq_len, batch_size, input_size]\n",
    "        \n",
    "        ecg, _ = self.lstm(ecg)\n",
    "        ecg = self.dropout(ecg)\n",
    "\n",
    "        #Get size of final layer\n",
    "        x_dim = ecg.size(0) * ecg.size(2)\n",
    "\n",
    "        ecg = ecg.view(-1, x_dim)\n",
    "\n",
    "        ecg = F.relu(self.fc1(ecg))\n",
    "        ecg = self.fc2(ecg)\n",
    "        ecg = ecg.squeeze(1) # Flatten to [batch_size]\n",
    "\n",
    "        return ecg\n",
    "\n"
   ]
  },
  {
   "cell_type": "code",
   "execution_count": 5,
   "metadata": {},
   "outputs": [],
   "source": [
    "\n",
    "\n",
    "dataset = SleepDataset(r'mesa_preproc/final/subject_0002.csv',r'mesa_preproc/final/subject_0002_ecg.csv')\n",
    "\n",
    "\n",
    "# Define the sizes of train, validation, and test sets\n",
    "train_size = int(0.7 * len(dataset))  # 70% of the data for training\n",
    "val_size = int(0.15 * len(dataset))   # 15% of the data for validation\n",
    "test_size = len(dataset) - train_size - val_size  # Remaining data for testing\n",
    "\n",
    "# Use random_split to split the dataset\n",
    "train_dataset, val_dataset, test_dataset = random_split(dataset, [train_size, val_size, test_size])\n",
    "\n",
    "\n",
    "\n",
    "\n"
   ]
  },
  {
   "cell_type": "code",
   "execution_count": 7,
   "metadata": {},
   "outputs": [],
   "source": []
  },
  {
   "cell_type": "code",
   "execution_count": 40,
   "metadata": {},
   "outputs": [],
   "source": [
    "\n",
    "\n",
    "def train(model, train_data, val_data, batch_size=64,learning_rate = 0.01, num_epochs=1):\n",
    "    train_loader = torch.utils.data.DataLoader(train_data, batch_size=batch_size, shuffle = True)\n",
    "    val_loader = torch.utils.data.DataLoader(val_data, batch_size=batch_size, shuffle = True)\n",
    "\n",
    "\n",
    "    #calculate class weights (bc unblanced data)\n",
    "    labels = []\n",
    "    \n",
    "    for batch in train_loader:\n",
    "        _, _, label_batch = batch\n",
    "        labels.append(label_batch)\n",
    "    labels = torch.cat(labels, dim=0)\n",
    "\n",
    "    class_counts = torch.bincount(labels)\n",
    "    total_samples = len(labels)\n",
    "    class_weights = total_samples / (len(class_counts) * class_counts.float())\n",
    "    class_weights /= class_weights.sum()\n",
    "\n",
    "\n",
    "    #############################################\n",
    "    #To Enable GPU Usage\n",
    "    if use_cuda and torch.cuda.is_available():\n",
    "        class_weights = class_weights.cuda()\n",
    "    #############################################\n",
    "\n",
    "\n",
    "\n",
    "    criterion = nn.CrossEntropyLoss(weight = class_weights)\n",
    "    optimizer = optim.Adam(model.parameters(), lr=learning_rate)\n",
    "\n",
    "    iters, val_loss,train_loss, train_acc, val_acc, train_f1, val_f1 = [],[], [], [], [], [], []\n",
    "\n",
    "    # training\n",
    "    n = 0 # the number of iterations\n",
    "    for epoch in range(num_epochs):\n",
    "        model.train()  # Set the model to training mode\n",
    "        running_loss = 0.0\n",
    "        correct_predictions = 0\n",
    "        total_samples = 0\n",
    "        m = 0\n",
    "        for hr,ecg, labels in tqdm(iter(train_loader)):\n",
    "\n",
    "\n",
    "\n",
    "            #############################################\n",
    "            #To Enable GPU Usage\n",
    "            if use_cuda and torch.cuda.is_available():\n",
    "              hr = hr.cuda()\n",
    "              ecg = ecg.cuda()\n",
    "              labels = labels.cuda()\n",
    "            #############################################\n",
    "\n",
    "\n",
    "            out = model(ecg)             # forward pass\n",
    "            loss = criterion(out, labels) # compute the total loss\n",
    "            loss.backward()               # backward pass (compute parameter updates)\n",
    "            optimizer.step()              # make the updates for each parameter\n",
    "            optimizer.zero_grad()         # a clean up step for PyTorch\n",
    "\n",
    "\n",
    "             # Compute statistics\n",
    "            running_loss += loss.item() * hr.size(0)\n",
    "            _, predicted = torch.max(out, 1)\n",
    "            correct_predictions += (predicted == labels).sum().item()\n",
    "            total_samples += hr.size(0)\n",
    "\n",
    "            m += 1\n",
    "\n",
    "        # Compute training epoch statistics\n",
    "        train_loss = running_loss / total_samples\n",
    "        train_accuracy = correct_predictions / total_samples\n",
    "        iters.append(m)\n",
    "\n",
    "        # Validate the model\n",
    "        model.eval()  # Set the model to evaluation mode\n",
    "        val_running_loss = 0.0\n",
    "        val_correct_predictions = 0\n",
    "        val_total_samples = 0\n",
    "        val_f1 = 0.0\n",
    "        n = 0\n",
    "        with torch.no_grad():\n",
    "\n",
    "            for val_hr_batch, val_ecg_batch, val_labels_batch in val_loader:\n",
    "                #############################################\n",
    "                #To Enable GPU Usage\n",
    "                if use_cuda and torch.cuda.is_available():\n",
    "                    val_hr_batch = val_hr_batch.cuda()\n",
    "                    val_ecg_batch = val_ecg_batch.cuda()\n",
    "                    val_labels_batch = val_labels_batch.cuda()\n",
    "                #############################################\n",
    "                val_outputs = model(val_ecg_batch)\n",
    "                val_loss = criterion(val_outputs, val_labels_batch)\n",
    "\n",
    "                val_running_loss += val_loss.item() * val_hr_batch.size(0)\n",
    "                _, val_predicted = torch.max(val_outputs, 1)\n",
    "                val_correct_predictions += (val_predicted == val_labels_batch).sum().item()\n",
    "                val_total_samples += val_hr_batch.size(0)\n",
    "                val_f1 += metrics.multiclass_f1_score(val_predicted,val_labels_batch)\n",
    "                n+=1\n",
    "                #print(val_predicted)\n",
    "                #print(val_labels_batch)\n",
    "\n",
    "        # Compute validation statistics\n",
    "        val_loss = val_running_loss / val_total_samples\n",
    "        val_accuracy = val_correct_predictions / val_total_samples\n",
    "        val_f1=val_f1/n\n",
    "        \n",
    "        # Save the current model (checkpoint) to a file\n",
    "        #model_path = get_model_name(model.name, batch_size, learning_rate, epoch)\n",
    "        #model_path2 = get_model_name2(model.name, batch_size, learning_rate)\n",
    "\n",
    "        #datadir = \"/content/gdrive/MyDrive/Lab2_models/\"\n",
    "        #datadir = \"data\\models\"\n",
    "\n",
    "        #torch.save(model.state_dict(), (os.path.join(datadir,model_path)))\n",
    "        # Print epoch statistics\n",
    "        print(f'Epoch [{epoch+1}/{num_epochs}], '\n",
    "            f'Train Loss: {train_loss:.4f}, Train Accuracy: {train_accuracy:.4f}, '\n",
    "            f'Val Loss: {val_loss:.4f}, Val Accuracy: {val_accuracy:.4f}, Val F1: {val_f1:.4f}')\n",
    "\n",
    "\n",
    "        #np.savetxt(\"{}_train_acc.csv\".format(os.path.join(datadir,model_path2)), train_acc)\n",
    "        #np.savetxt(\"{}_val_acc.csv\".format(os.path.join(datadir,model_path2)), val_acc)\n",
    "        #np.savetxt(\"{}_losses.csv\".format(os.path.join(datadir,model_path2)), losses)\n",
    "\n",
    "\n",
    "\n",
    "    # plotting\n",
    "\n",
    "\n",
    "    '''\n",
    "    plt.title(\"Training Curve\")\n",
    "    plt.plot(iters, train_loss, label=\"Train\")\n",
    "    plt.plot(iters, val_loss, label=\"Validation\")\n",
    "    plt.xlabel(\"Iterations\")\n",
    "    plt.ylabel(\"Loss\")\n",
    "    plt.show()\n",
    "\n",
    "    plt.title(\"Training Curve\")\n",
    "    plt.plot(iters, train_acc, label=\"Train\")\n",
    "    plt.plot(iters, val_acc, label=\"Validation\")\n",
    "    plt.xlabel(\"Iterations\")\n",
    "    plt.ylabel(\"Training Accuracy\")\n",
    "    plt.legend(loc='best')\n",
    "    plt.show()\n",
    "    '''\n",
    "\n",
    "\n",
    "\n",
    "\n"
   ]
  },
  {
   "cell_type": "code",
   "execution_count": 41,
   "metadata": {},
   "outputs": [
    {
     "name": "stdout",
     "output_type": "stream",
     "text": [
      "Using CUDA\n"
     ]
    },
    {
     "name": "stderr",
     "output_type": "stream",
     "text": [
      "100%|██████████| 12/12 [00:01<00:00,  7.62it/s]\n"
     ]
    },
    {
     "name": "stdout",
     "output_type": "stream",
     "text": [
      "Epoch [1/20], Train Loss: 1.4277, Train Accuracy: 0.2673, Val Loss: 1.3946, Val Accuracy: 0.4870, Val F1: 0.4515\n"
     ]
    },
    {
     "name": "stderr",
     "output_type": "stream",
     "text": [
      "100%|██████████| 12/12 [00:01<00:00,  8.73it/s]\n"
     ]
    },
    {
     "name": "stdout",
     "output_type": "stream",
     "text": [
      "Epoch [2/20], Train Loss: 1.3945, Train Accuracy: 0.4418, Val Loss: 1.4024, Val Accuracy: 0.2403, Val F1: 0.2232\n"
     ]
    },
    {
     "name": "stderr",
     "output_type": "stream",
     "text": [
      "100%|██████████| 12/12 [00:01<00:00,  8.71it/s]\n"
     ]
    },
    {
     "name": "stdout",
     "output_type": "stream",
     "text": [
      "Epoch [3/20], Train Loss: 1.3871, Train Accuracy: 0.4377, Val Loss: 1.3970, Val Accuracy: 0.4740, Val F1: 0.4792\n"
     ]
    },
    {
     "name": "stderr",
     "output_type": "stream",
     "text": [
      "100%|██████████| 12/12 [00:01<00:00,  8.51it/s]\n"
     ]
    },
    {
     "name": "stdout",
     "output_type": "stream",
     "text": [
      "Epoch [4/20], Train Loss: 1.3877, Train Accuracy: 0.3352, Val Loss: 1.3966, Val Accuracy: 0.2403, Val F1: 0.2536\n"
     ]
    },
    {
     "name": "stderr",
     "output_type": "stream",
     "text": [
      "100%|██████████| 12/12 [00:01<00:00,  8.64it/s]\n"
     ]
    },
    {
     "name": "stdout",
     "output_type": "stream",
     "text": [
      "Epoch [5/20], Train Loss: 1.3865, Train Accuracy: 0.3643, Val Loss: 1.3959, Val Accuracy: 0.4805, Val F1: 0.4768\n"
     ]
    },
    {
     "name": "stderr",
     "output_type": "stream",
     "text": [
      "100%|██████████| 12/12 [00:01<00:00,  8.34it/s]\n"
     ]
    },
    {
     "name": "stdout",
     "output_type": "stream",
     "text": [
      "Epoch [6/20], Train Loss: 1.3863, Train Accuracy: 0.5083, Val Loss: 1.3933, Val Accuracy: 0.4870, Val F1: 0.4972\n"
     ]
    },
    {
     "name": "stderr",
     "output_type": "stream",
     "text": [
      "100%|██████████| 12/12 [00:01<00:00,  8.31it/s]\n"
     ]
    },
    {
     "name": "stdout",
     "output_type": "stream",
     "text": [
      "Epoch [7/20], Train Loss: 1.3882, Train Accuracy: 0.5069, Val Loss: 1.3950, Val Accuracy: 0.4416, Val F1: 0.4531\n"
     ]
    },
    {
     "name": "stderr",
     "output_type": "stream",
     "text": [
      "100%|██████████| 12/12 [00:01<00:00,  8.67it/s]\n"
     ]
    },
    {
     "name": "stdout",
     "output_type": "stream",
     "text": [
      "Epoch [8/20], Train Loss: 1.3866, Train Accuracy: 0.2964, Val Loss: 1.4031, Val Accuracy: 0.2403, Val F1: 0.2536\n"
     ]
    },
    {
     "name": "stderr",
     "output_type": "stream",
     "text": [
      "100%|██████████| 12/12 [00:01<00:00,  8.71it/s]\n"
     ]
    },
    {
     "name": "stdout",
     "output_type": "stream",
     "text": [
      "Epoch [9/20], Train Loss: 1.3880, Train Accuracy: 0.2770, Val Loss: 1.4002, Val Accuracy: 0.2403, Val F1: 0.2460\n"
     ]
    },
    {
     "name": "stderr",
     "output_type": "stream",
     "text": [
      "100%|██████████| 12/12 [00:01<00:00,  8.54it/s]\n"
     ]
    },
    {
     "name": "stdout",
     "output_type": "stream",
     "text": [
      "Epoch [10/20], Train Loss: 1.3860, Train Accuracy: 0.2978, Val Loss: 1.3968, Val Accuracy: 0.4740, Val F1: 0.4944\n"
     ]
    },
    {
     "name": "stderr",
     "output_type": "stream",
     "text": [
      "100%|██████████| 12/12 [00:01<00:00,  8.69it/s]\n"
     ]
    },
    {
     "name": "stdout",
     "output_type": "stream",
     "text": [
      "Epoch [11/20], Train Loss: 1.3855, Train Accuracy: 0.4335, Val Loss: 1.3978, Val Accuracy: 0.2403, Val F1: 0.2688\n"
     ]
    },
    {
     "name": "stderr",
     "output_type": "stream",
     "text": [
      "100%|██████████| 12/12 [00:01<00:00,  8.50it/s]\n"
     ]
    },
    {
     "name": "stdout",
     "output_type": "stream",
     "text": [
      "Epoch [12/20], Train Loss: 1.3873, Train Accuracy: 0.3615, Val Loss: 1.4003, Val Accuracy: 0.2403, Val F1: 0.2308\n"
     ]
    },
    {
     "name": "stderr",
     "output_type": "stream",
     "text": [
      "100%|██████████| 12/12 [00:01<00:00,  8.62it/s]\n"
     ]
    },
    {
     "name": "stdout",
     "output_type": "stream",
     "text": [
      "Epoch [13/20], Train Loss: 1.3878, Train Accuracy: 0.4294, Val Loss: 1.3948, Val Accuracy: 0.5000, Val F1: 0.4848\n"
     ]
    },
    {
     "name": "stderr",
     "output_type": "stream",
     "text": [
      "100%|██████████| 12/12 [00:01<00:00,  8.42it/s]\n"
     ]
    },
    {
     "name": "stdout",
     "output_type": "stream",
     "text": [
      "Epoch [14/20], Train Loss: 1.3871, Train Accuracy: 0.4958, Val Loss: 1.3917, Val Accuracy: 0.4870, Val F1: 0.4820\n"
     ]
    },
    {
     "name": "stderr",
     "output_type": "stream",
     "text": [
      "100%|██████████| 12/12 [00:01<00:00,  8.52it/s]\n"
     ]
    },
    {
     "name": "stdout",
     "output_type": "stream",
     "text": [
      "Epoch [15/20], Train Loss: 1.3873, Train Accuracy: 0.4917, Val Loss: 1.3937, Val Accuracy: 0.4675, Val F1: 0.4435\n"
     ]
    },
    {
     "name": "stderr",
     "output_type": "stream",
     "text": [
      "100%|██████████| 12/12 [00:01<00:00,  8.64it/s]\n"
     ]
    },
    {
     "name": "stdout",
     "output_type": "stream",
     "text": [
      "Epoch [16/20], Train Loss: 1.3871, Train Accuracy: 0.3255, Val Loss: 1.3990, Val Accuracy: 0.2403, Val F1: 0.2232\n"
     ]
    },
    {
     "name": "stderr",
     "output_type": "stream",
     "text": [
      "100%|██████████| 12/12 [00:01<00:00,  8.58it/s]\n"
     ]
    },
    {
     "name": "stdout",
     "output_type": "stream",
     "text": [
      "Epoch [17/20], Train Loss: 1.3869, Train Accuracy: 0.2756, Val Loss: 1.3950, Val Accuracy: 0.2403, Val F1: 0.2536\n"
     ]
    },
    {
     "name": "stderr",
     "output_type": "stream",
     "text": [
      "100%|██████████| 12/12 [00:01<00:00,  8.62it/s]\n"
     ]
    },
    {
     "name": "stdout",
     "output_type": "stream",
     "text": [
      "Epoch [18/20], Train Loss: 1.3878, Train Accuracy: 0.4834, Val Loss: 1.3931, Val Accuracy: 0.4675, Val F1: 0.4435\n"
     ]
    },
    {
     "name": "stderr",
     "output_type": "stream",
     "text": [
      "100%|██████████| 12/12 [00:01<00:00,  8.50it/s]\n"
     ]
    },
    {
     "name": "stdout",
     "output_type": "stream",
     "text": [
      "Epoch [19/20], Train Loss: 1.3862, Train Accuracy: 0.3587, Val Loss: 1.3967, Val Accuracy: 0.2403, Val F1: 0.2232\n"
     ]
    },
    {
     "name": "stderr",
     "output_type": "stream",
     "text": [
      "100%|██████████| 12/12 [00:01<00:00,  8.58it/s]\n"
     ]
    },
    {
     "name": "stdout",
     "output_type": "stream",
     "text": [
      "Epoch [20/20], Train Loss: 1.3879, Train Accuracy: 0.2770, Val Loss: 1.3988, Val Accuracy: 0.2403, Val F1: 0.2612\n"
     ]
    }
   ],
   "source": [
    "model = SleepNet_ECG()\n",
    "\n",
    "use_cuda = True\n",
    "\n",
    "if use_cuda and torch.cuda.is_available():\n",
    "  model.cuda()\n",
    "  print(\"Using CUDA\")\n",
    "\n",
    "\n",
    "train(model, train_dataset, val_dataset, batch_size=64,learning_rate = 0.001, num_epochs=20)\n"
   ]
  },
  {
   "cell_type": "code",
   "execution_count": 42,
   "metadata": {},
   "outputs": [
    {
     "name": "stdout",
     "output_type": "stream",
     "text": [
      "Using CUDA\n"
     ]
    },
    {
     "name": "stderr",
     "output_type": "stream",
     "text": [
      "100%|██████████| 6/6 [00:01<00:00,  3.83it/s]\n"
     ]
    },
    {
     "name": "stdout",
     "output_type": "stream",
     "text": [
      "Epoch [1/50], Train Loss: 1.3930, Train Accuracy: 0.1704, Val Loss: 1.3906, Val Accuracy: 0.2338, Val F1: 0.2479\n"
     ]
    },
    {
     "name": "stderr",
     "output_type": "stream",
     "text": [
      "100%|██████████| 6/6 [00:01<00:00,  4.31it/s]\n"
     ]
    },
    {
     "name": "stdout",
     "output_type": "stream",
     "text": [
      "Epoch [2/50], Train Loss: 1.3877, Train Accuracy: 0.2867, Val Loss: 1.3859, Val Accuracy: 0.4870, Val F1: 0.4615\n"
     ]
    },
    {
     "name": "stderr",
     "output_type": "stream",
     "text": [
      "100%|██████████| 6/6 [00:01<00:00,  4.37it/s]\n"
     ]
    },
    {
     "name": "stdout",
     "output_type": "stream",
     "text": [
      "Epoch [3/50], Train Loss: 1.3892, Train Accuracy: 0.4446, Val Loss: 1.3915, Val Accuracy: 0.4805, Val F1: 0.4883\n"
     ]
    },
    {
     "name": "stderr",
     "output_type": "stream",
     "text": [
      "100%|██████████| 6/6 [00:01<00:00,  4.33it/s]\n"
     ]
    },
    {
     "name": "stdout",
     "output_type": "stream",
     "text": [
      "Epoch [4/50], Train Loss: 1.3879, Train Accuracy: 0.4875, Val Loss: 1.3832, Val Accuracy: 0.4870, Val F1: 0.4309\n"
     ]
    },
    {
     "name": "stderr",
     "output_type": "stream",
     "text": [
      "100%|██████████| 6/6 [00:01<00:00,  3.43it/s]\n"
     ]
    },
    {
     "name": "stdout",
     "output_type": "stream",
     "text": [
      "Epoch [5/50], Train Loss: 1.3873, Train Accuracy: 0.4169, Val Loss: 1.3858, Val Accuracy: 0.4740, Val F1: 0.4231\n"
     ]
    },
    {
     "name": "stderr",
     "output_type": "stream",
     "text": [
      "100%|██████████| 6/6 [00:01<00:00,  4.28it/s]\n"
     ]
    },
    {
     "name": "stdout",
     "output_type": "stream",
     "text": [
      "Epoch [6/50], Train Loss: 1.3876, Train Accuracy: 0.4086, Val Loss: 1.3971, Val Accuracy: 0.2403, Val F1: 0.2212\n"
     ]
    },
    {
     "name": "stderr",
     "output_type": "stream",
     "text": [
      "100%|██████████| 6/6 [00:01<00:00,  4.32it/s]\n"
     ]
    },
    {
     "name": "stdout",
     "output_type": "stream",
     "text": [
      "Epoch [7/50], Train Loss: 1.3881, Train Accuracy: 0.2839, Val Loss: 1.3964, Val Accuracy: 0.2403, Val F1: 0.2058\n"
     ]
    },
    {
     "name": "stderr",
     "output_type": "stream",
     "text": [
      "100%|██████████| 6/6 [00:01<00:00,  4.16it/s]\n"
     ]
    },
    {
     "name": "stdout",
     "output_type": "stream",
     "text": [
      "Epoch [8/50], Train Loss: 1.3880, Train Accuracy: 0.3255, Val Loss: 1.3893, Val Accuracy: 0.4805, Val F1: 0.5496\n"
     ]
    },
    {
     "name": "stderr",
     "output_type": "stream",
     "text": [
      "100%|██████████| 6/6 [00:02<00:00,  2.93it/s]\n"
     ]
    },
    {
     "name": "stdout",
     "output_type": "stream",
     "text": [
      "Epoch [9/50], Train Loss: 1.3872, Train Accuracy: 0.3906, Val Loss: 1.3950, Val Accuracy: 0.4805, Val F1: 0.4883\n"
     ]
    },
    {
     "name": "stderr",
     "output_type": "stream",
     "text": [
      "100%|██████████| 6/6 [00:02<00:00,  2.40it/s]\n"
     ]
    },
    {
     "name": "stdout",
     "output_type": "stream",
     "text": [
      "Epoch [10/50], Train Loss: 1.3867, Train Accuracy: 0.3809, Val Loss: 1.3904, Val Accuracy: 0.4156, Val F1: 0.4492\n"
     ]
    },
    {
     "name": "stderr",
     "output_type": "stream",
     "text": [
      "100%|██████████| 6/6 [00:01<00:00,  4.14it/s]\n"
     ]
    },
    {
     "name": "stdout",
     "output_type": "stream",
     "text": [
      "Epoch [11/50], Train Loss: 1.3869, Train Accuracy: 0.2729, Val Loss: 1.3859, Val Accuracy: 0.2208, Val F1: 0.2094\n"
     ]
    },
    {
     "name": "stderr",
     "output_type": "stream",
     "text": [
      "100%|██████████| 6/6 [00:01<00:00,  4.09it/s]\n"
     ]
    },
    {
     "name": "stdout",
     "output_type": "stream",
     "text": [
      "Epoch [12/50], Train Loss: 1.3867, Train Accuracy: 0.2756, Val Loss: 1.3853, Val Accuracy: 0.2403, Val F1: 0.2671\n"
     ]
    },
    {
     "name": "stderr",
     "output_type": "stream",
     "text": [
      "100%|██████████| 6/6 [00:01<00:00,  4.09it/s]\n"
     ]
    },
    {
     "name": "stdout",
     "output_type": "stream",
     "text": [
      "Epoch [13/50], Train Loss: 1.3874, Train Accuracy: 0.2867, Val Loss: 1.3891, Val Accuracy: 0.2532, Val F1: 0.2290\n"
     ]
    },
    {
     "name": "stderr",
     "output_type": "stream",
     "text": [
      "100%|██████████| 6/6 [00:01<00:00,  4.25it/s]\n"
     ]
    },
    {
     "name": "stdout",
     "output_type": "stream",
     "text": [
      "Epoch [14/50], Train Loss: 1.3862, Train Accuracy: 0.2936, Val Loss: 1.3898, Val Accuracy: 0.2468, Val F1: 0.2557\n"
     ]
    },
    {
     "name": "stderr",
     "output_type": "stream",
     "text": [
      "100%|██████████| 6/6 [00:01<00:00,  4.29it/s]\n"
     ]
    },
    {
     "name": "stdout",
     "output_type": "stream",
     "text": [
      "Epoch [15/50], Train Loss: 1.3858, Train Accuracy: 0.3075, Val Loss: 1.3929, Val Accuracy: 0.2922, Val F1: 0.2984\n"
     ]
    },
    {
     "name": "stderr",
     "output_type": "stream",
     "text": [
      "100%|██████████| 6/6 [00:01<00:00,  4.40it/s]\n"
     ]
    },
    {
     "name": "stdout",
     "output_type": "stream",
     "text": [
      "Epoch [16/50], Train Loss: 1.3882, Train Accuracy: 0.3463, Val Loss: 1.3911, Val Accuracy: 0.2338, Val F1: 0.2326\n"
     ]
    },
    {
     "name": "stderr",
     "output_type": "stream",
     "text": [
      "100%|██████████| 6/6 [00:01<00:00,  4.29it/s]\n"
     ]
    },
    {
     "name": "stdout",
     "output_type": "stream",
     "text": [
      "Epoch [17/50], Train Loss: 1.3867, Train Accuracy: 0.2465, Val Loss: 1.3863, Val Accuracy: 0.1883, Val F1: 0.1439\n"
     ]
    },
    {
     "name": "stderr",
     "output_type": "stream",
     "text": [
      "100%|██████████| 6/6 [00:01<00:00,  4.27it/s]\n"
     ]
    },
    {
     "name": "stdout",
     "output_type": "stream",
     "text": [
      "Epoch [18/50], Train Loss: 1.3878, Train Accuracy: 0.2299, Val Loss: 1.3921, Val Accuracy: 0.2403, Val F1: 0.2058\n"
     ]
    },
    {
     "name": "stderr",
     "output_type": "stream",
     "text": [
      "100%|██████████| 6/6 [00:01<00:00,  4.38it/s]\n"
     ]
    },
    {
     "name": "stdout",
     "output_type": "stream",
     "text": [
      "Epoch [19/50], Train Loss: 1.3865, Train Accuracy: 0.2632, Val Loss: 1.3860, Val Accuracy: 0.2727, Val F1: 0.2407\n"
     ]
    },
    {
     "name": "stderr",
     "output_type": "stream",
     "text": [
      "100%|██████████| 6/6 [00:01<00:00,  4.32it/s]\n"
     ]
    },
    {
     "name": "stdout",
     "output_type": "stream",
     "text": [
      "Epoch [20/50], Train Loss: 1.3877, Train Accuracy: 0.1191, Val Loss: 1.3811, Val Accuracy: 0.1169, Val F1: 0.1929\n"
     ]
    },
    {
     "name": "stderr",
     "output_type": "stream",
     "text": [
      "100%|██████████| 6/6 [00:01<00:00,  4.38it/s]\n"
     ]
    },
    {
     "name": "stdout",
     "output_type": "stream",
     "text": [
      "Epoch [21/50], Train Loss: 1.3858, Train Accuracy: 0.1302, Val Loss: 1.3867, Val Accuracy: 0.1883, Val F1: 0.2512\n"
     ]
    },
    {
     "name": "stderr",
     "output_type": "stream",
     "text": [
      "100%|██████████| 6/6 [00:01<00:00,  4.38it/s]\n"
     ]
    },
    {
     "name": "stdout",
     "output_type": "stream",
     "text": [
      "Epoch [22/50], Train Loss: 1.3869, Train Accuracy: 0.2618, Val Loss: 1.3941, Val Accuracy: 0.2403, Val F1: 0.2058\n"
     ]
    },
    {
     "name": "stderr",
     "output_type": "stream",
     "text": [
      "100%|██████████| 6/6 [00:01<00:00,  4.36it/s]\n"
     ]
    },
    {
     "name": "stdout",
     "output_type": "stream",
     "text": [
      "Epoch [23/50], Train Loss: 1.3872, Train Accuracy: 0.2825, Val Loss: 1.3876, Val Accuracy: 0.2792, Val F1: 0.2599\n"
     ]
    },
    {
     "name": "stderr",
     "output_type": "stream",
     "text": [
      "100%|██████████| 6/6 [00:01<00:00,  4.35it/s]\n"
     ]
    },
    {
     "name": "stdout",
     "output_type": "stream",
     "text": [
      "Epoch [24/50], Train Loss: 1.3866, Train Accuracy: 0.2909, Val Loss: 1.3921, Val Accuracy: 0.2338, Val F1: 0.2326\n"
     ]
    },
    {
     "name": "stderr",
     "output_type": "stream",
     "text": [
      "100%|██████████| 6/6 [00:01<00:00,  4.39it/s]\n"
     ]
    },
    {
     "name": "stdout",
     "output_type": "stream",
     "text": [
      "Epoch [25/50], Train Loss: 1.3877, Train Accuracy: 0.2812, Val Loss: 1.3961, Val Accuracy: 0.2857, Val F1: 0.3711\n"
     ]
    },
    {
     "name": "stderr",
     "output_type": "stream",
     "text": [
      "100%|██████████| 6/6 [00:01<00:00,  4.37it/s]\n"
     ]
    },
    {
     "name": "stdout",
     "output_type": "stream",
     "text": [
      "Epoch [26/50], Train Loss: 1.3875, Train Accuracy: 0.3546, Val Loss: 1.3949, Val Accuracy: 0.4870, Val F1: 0.4462\n"
     ]
    },
    {
     "name": "stderr",
     "output_type": "stream",
     "text": [
      "100%|██████████| 6/6 [00:01<00:00,  4.36it/s]\n"
     ]
    },
    {
     "name": "stdout",
     "output_type": "stream",
     "text": [
      "Epoch [27/50], Train Loss: 1.3856, Train Accuracy: 0.4709, Val Loss: 1.3917, Val Accuracy: 0.4740, Val F1: 0.4078\n"
     ]
    },
    {
     "name": "stderr",
     "output_type": "stream",
     "text": [
      "100%|██████████| 6/6 [00:01<00:00,  4.39it/s]\n"
     ]
    },
    {
     "name": "stdout",
     "output_type": "stream",
     "text": [
      "Epoch [28/50], Train Loss: 1.3879, Train Accuracy: 0.3906, Val Loss: 1.3879, Val Accuracy: 0.3052, Val F1: 0.3215\n"
     ]
    },
    {
     "name": "stderr",
     "output_type": "stream",
     "text": [
      "100%|██████████| 6/6 [00:01<00:00,  4.35it/s]\n"
     ]
    },
    {
     "name": "stdout",
     "output_type": "stream",
     "text": [
      "Epoch [29/50], Train Loss: 1.3880, Train Accuracy: 0.3296, Val Loss: 1.3872, Val Accuracy: 0.3247, Val F1: 0.3332\n"
     ]
    },
    {
     "name": "stderr",
     "output_type": "stream",
     "text": [
      "100%|██████████| 6/6 [00:01<00:00,  4.26it/s]\n"
     ]
    },
    {
     "name": "stdout",
     "output_type": "stream",
     "text": [
      "Epoch [30/50], Train Loss: 1.3873, Train Accuracy: 0.3241, Val Loss: 1.3897, Val Accuracy: 0.2468, Val F1: 0.2710\n"
     ]
    },
    {
     "name": "stderr",
     "output_type": "stream",
     "text": [
      "100%|██████████| 6/6 [00:01<00:00,  4.35it/s]\n"
     ]
    },
    {
     "name": "stdout",
     "output_type": "stream",
     "text": [
      "Epoch [31/50], Train Loss: 1.3875, Train Accuracy: 0.3310, Val Loss: 1.3899, Val Accuracy: 0.2597, Val F1: 0.2175\n"
     ]
    },
    {
     "name": "stderr",
     "output_type": "stream",
     "text": [
      "100%|██████████| 6/6 [00:01<00:00,  4.34it/s]\n"
     ]
    },
    {
     "name": "stdout",
     "output_type": "stream",
     "text": [
      "Epoch [32/50], Train Loss: 1.3863, Train Accuracy: 0.2964, Val Loss: 1.3919, Val Accuracy: 0.3506, Val F1: 0.3335\n"
     ]
    },
    {
     "name": "stderr",
     "output_type": "stream",
     "text": [
      "100%|██████████| 6/6 [00:01<00:00,  4.39it/s]\n"
     ]
    },
    {
     "name": "stdout",
     "output_type": "stream",
     "text": [
      "Epoch [33/50], Train Loss: 1.3870, Train Accuracy: 0.2867, Val Loss: 1.3922, Val Accuracy: 0.2338, Val F1: 0.2479\n"
     ]
    },
    {
     "name": "stderr",
     "output_type": "stream",
     "text": [
      "100%|██████████| 6/6 [00:01<00:00,  4.37it/s]\n"
     ]
    },
    {
     "name": "stdout",
     "output_type": "stream",
     "text": [
      "Epoch [34/50], Train Loss: 1.3868, Train Accuracy: 0.2424, Val Loss: 1.3898, Val Accuracy: 0.2143, Val F1: 0.2055\n"
     ]
    },
    {
     "name": "stderr",
     "output_type": "stream",
     "text": [
      "100%|██████████| 6/6 [00:01<00:00,  4.22it/s]\n"
     ]
    },
    {
     "name": "stdout",
     "output_type": "stream",
     "text": [
      "Epoch [35/50], Train Loss: 1.3874, Train Accuracy: 0.2133, Val Loss: 1.3881, Val Accuracy: 0.1948, Val F1: 0.1938\n"
     ]
    },
    {
     "name": "stderr",
     "output_type": "stream",
     "text": [
      "100%|██████████| 6/6 [00:01<00:00,  4.33it/s]\n"
     ]
    },
    {
     "name": "stdout",
     "output_type": "stream",
     "text": [
      "Epoch [36/50], Train Loss: 1.3868, Train Accuracy: 0.2382, Val Loss: 1.3933, Val Accuracy: 0.2403, Val F1: 0.2365\n"
     ]
    },
    {
     "name": "stderr",
     "output_type": "stream",
     "text": [
      "100%|██████████| 6/6 [00:01<00:00,  4.38it/s]\n"
     ]
    },
    {
     "name": "stdout",
     "output_type": "stream",
     "text": [
      "Epoch [37/50], Train Loss: 1.3875, Train Accuracy: 0.2825, Val Loss: 1.3884, Val Accuracy: 0.2403, Val F1: 0.2825\n"
     ]
    },
    {
     "name": "stderr",
     "output_type": "stream",
     "text": [
      "100%|██████████| 6/6 [00:01<00:00,  4.35it/s]\n"
     ]
    },
    {
     "name": "stdout",
     "output_type": "stream",
     "text": [
      "Epoch [38/50], Train Loss: 1.3870, Train Accuracy: 0.2604, Val Loss: 1.3880, Val Accuracy: 0.2143, Val F1: 0.1902\n"
     ]
    },
    {
     "name": "stderr",
     "output_type": "stream",
     "text": [
      "100%|██████████| 6/6 [00:01<00:00,  4.33it/s]\n"
     ]
    },
    {
     "name": "stdout",
     "output_type": "stream",
     "text": [
      "Epoch [39/50], Train Loss: 1.3878, Train Accuracy: 0.2881, Val Loss: 1.3867, Val Accuracy: 0.4675, Val F1: 0.5111\n"
     ]
    },
    {
     "name": "stderr",
     "output_type": "stream",
     "text": [
      "100%|██████████| 6/6 [00:01<00:00,  4.38it/s]\n"
     ]
    },
    {
     "name": "stdout",
     "output_type": "stream",
     "text": [
      "Epoch [40/50], Train Loss: 1.3857, Train Accuracy: 0.3878, Val Loss: 1.3897, Val Accuracy: 0.4675, Val F1: 0.4038\n"
     ]
    },
    {
     "name": "stderr",
     "output_type": "stream",
     "text": [
      "100%|██████████| 6/6 [00:01<00:00,  4.37it/s]\n"
     ]
    },
    {
     "name": "stdout",
     "output_type": "stream",
     "text": [
      "Epoch [41/50], Train Loss: 1.3867, Train Accuracy: 0.3476, Val Loss: 1.3945, Val Accuracy: 0.2662, Val F1: 0.2215\n"
     ]
    },
    {
     "name": "stderr",
     "output_type": "stream",
     "text": [
      "100%|██████████| 6/6 [00:01<00:00,  4.32it/s]\n"
     ]
    },
    {
     "name": "stdout",
     "output_type": "stream",
     "text": [
      "Epoch [42/50], Train Loss: 1.3871, Train Accuracy: 0.3421, Val Loss: 1.3930, Val Accuracy: 0.2987, Val F1: 0.3176\n"
     ]
    },
    {
     "name": "stderr",
     "output_type": "stream",
     "text": [
      "100%|██████████| 6/6 [00:01<00:00,  4.37it/s]\n"
     ]
    },
    {
     "name": "stdout",
     "output_type": "stream",
     "text": [
      "Epoch [43/50], Train Loss: 1.3867, Train Accuracy: 0.3407, Val Loss: 1.3896, Val Accuracy: 0.2857, Val F1: 0.2791\n"
     ]
    },
    {
     "name": "stderr",
     "output_type": "stream",
     "text": [
      "100%|██████████| 6/6 [00:01<00:00,  4.37it/s]\n"
     ]
    },
    {
     "name": "stdout",
     "output_type": "stream",
     "text": [
      "Epoch [44/50], Train Loss: 1.3847, Train Accuracy: 0.2604, Val Loss: 1.3936, Val Accuracy: 0.2208, Val F1: 0.2094\n"
     ]
    },
    {
     "name": "stderr",
     "output_type": "stream",
     "text": [
      "100%|██████████| 6/6 [00:01<00:00,  4.41it/s]\n"
     ]
    },
    {
     "name": "stdout",
     "output_type": "stream",
     "text": [
      "Epoch [45/50], Train Loss: 1.3893, Train Accuracy: 0.2701, Val Loss: 1.3997, Val Accuracy: 0.2403, Val F1: 0.2825\n"
     ]
    },
    {
     "name": "stderr",
     "output_type": "stream",
     "text": [
      "100%|██████████| 6/6 [00:01<00:00,  4.38it/s]\n"
     ]
    },
    {
     "name": "stdout",
     "output_type": "stream",
     "text": [
      "Epoch [46/50], Train Loss: 1.3853, Train Accuracy: 0.2784, Val Loss: 1.3931, Val Accuracy: 0.2662, Val F1: 0.2521\n"
     ]
    },
    {
     "name": "stderr",
     "output_type": "stream",
     "text": [
      "100%|██████████| 6/6 [00:01<00:00,  4.37it/s]\n"
     ]
    },
    {
     "name": "stdout",
     "output_type": "stream",
     "text": [
      "Epoch [47/50], Train Loss: 1.3874, Train Accuracy: 0.3130, Val Loss: 1.3925, Val Accuracy: 0.4416, Val F1: 0.4035\n"
     ]
    },
    {
     "name": "stderr",
     "output_type": "stream",
     "text": [
      "100%|██████████| 6/6 [00:01<00:00,  4.32it/s]\n"
     ]
    },
    {
     "name": "stdout",
     "output_type": "stream",
     "text": [
      "Epoch [48/50], Train Loss: 1.3876, Train Accuracy: 0.3601, Val Loss: 1.3790, Val Accuracy: 0.1429, Val F1: 0.1013\n"
     ]
    },
    {
     "name": "stderr",
     "output_type": "stream",
     "text": [
      "100%|██████████| 6/6 [00:01<00:00,  4.39it/s]\n"
     ]
    },
    {
     "name": "stdout",
     "output_type": "stream",
     "text": [
      "Epoch [49/50], Train Loss: 1.3863, Train Accuracy: 0.3767, Val Loss: 1.3886, Val Accuracy: 0.4870, Val F1: 0.5382\n"
     ]
    },
    {
     "name": "stderr",
     "output_type": "stream",
     "text": [
      "100%|██████████| 6/6 [00:01<00:00,  4.32it/s]\n"
     ]
    },
    {
     "name": "stdout",
     "output_type": "stream",
     "text": [
      "Epoch [50/50], Train Loss: 1.3864, Train Accuracy: 0.4266, Val Loss: 1.3906, Val Accuracy: 0.4740, Val F1: 0.5303\n"
     ]
    }
   ],
   "source": [
    "model = SleepNet_ECG()\n",
    "\n",
    "use_cuda = True\n",
    "\n",
    "if use_cuda and torch.cuda.is_available():\n",
    "  model.cuda()\n",
    "  print(\"Using CUDA\")\n",
    "\n",
    "\n",
    "train(model, train_dataset, val_dataset, batch_size=128,learning_rate = 0.0001, num_epochs=50)"
   ]
  },
  {
   "cell_type": "code",
   "execution_count": 21,
   "metadata": {},
   "outputs": [
    {
     "name": "stdout",
     "output_type": "stream",
     "text": [
      "Using CUDA\n",
      "Epoch  0\n"
     ]
    },
    {
     "name": "stderr",
     "output_type": "stream",
     "text": [
      "100%|██████████| 12/12 [00:09<00:00,  1.33it/s]\n"
     ]
    },
    {
     "name": "stdout",
     "output_type": "stream",
     "text": [
      "Training Accuracy:  0.1786703601108033\n",
      "Training Loss:  0.022355636581778526\n",
      "Validation Accuracy:  0.14935064935064934\n",
      "Epoch  1\n"
     ]
    },
    {
     "name": "stderr",
     "output_type": "stream",
     "text": [
      "100%|██████████| 12/12 [00:08<00:00,  1.34it/s]\n"
     ]
    },
    {
     "name": "stdout",
     "output_type": "stream",
     "text": [
      "Training Accuracy:  0.1772853185595568\n",
      "Training Loss:  0.021289296448230743\n",
      "Validation Accuracy:  0.13636363636363635\n",
      "Epoch  2\n"
     ]
    },
    {
     "name": "stderr",
     "output_type": "stream",
     "text": [
      "100%|██████████| 12/12 [00:08<00:00,  1.35it/s]\n"
     ]
    },
    {
     "name": "stdout",
     "output_type": "stream",
     "text": [
      "Training Accuracy:  0.1772853185595568\n",
      "Training Loss:  0.021832585334777832\n",
      "Validation Accuracy:  0.13636363636363635\n",
      "Epoch  3\n"
     ]
    },
    {
     "name": "stderr",
     "output_type": "stream",
     "text": [
      "100%|██████████| 12/12 [00:08<00:00,  1.34it/s]\n"
     ]
    },
    {
     "name": "stdout",
     "output_type": "stream",
     "text": [
      "Training Accuracy:  0.1772853185595568\n",
      "Training Loss:  0.021545641124248505\n",
      "Validation Accuracy:  0.13636363636363635\n",
      "Epoch  4\n"
     ]
    },
    {
     "name": "stderr",
     "output_type": "stream",
     "text": [
      "100%|██████████| 12/12 [00:08<00:00,  1.36it/s]\n"
     ]
    },
    {
     "name": "stdout",
     "output_type": "stream",
     "text": [
      "Training Accuracy:  0.1772853185595568\n",
      "Training Loss:  0.021859358996152878\n",
      "Validation Accuracy:  0.13636363636363635\n",
      "Epoch  5\n"
     ]
    },
    {
     "name": "stderr",
     "output_type": "stream",
     "text": [
      "100%|██████████| 12/12 [00:08<00:00,  1.36it/s]\n"
     ]
    },
    {
     "name": "stdout",
     "output_type": "stream",
     "text": [
      "Training Accuracy:  0.18005540166204986\n",
      "Training Loss:  0.021273048594594002\n",
      "Validation Accuracy:  0.14285714285714285\n",
      "Epoch  6\n"
     ]
    },
    {
     "name": "stderr",
     "output_type": "stream",
     "text": [
      "100%|██████████| 12/12 [00:08<00:00,  1.35it/s]\n"
     ]
    },
    {
     "name": "stdout",
     "output_type": "stream",
     "text": [
      "Training Accuracy:  0.26454293628808867\n",
      "Training Loss:  0.02204952947795391\n",
      "Validation Accuracy:  0.3116883116883117\n",
      "Epoch  7\n"
     ]
    },
    {
     "name": "stderr",
     "output_type": "stream",
     "text": [
      "100%|██████████| 12/12 [00:08<00:00,  1.36it/s]\n"
     ]
    },
    {
     "name": "stdout",
     "output_type": "stream",
     "text": [
      "Training Accuracy:  0.1772853185595568\n",
      "Training Loss:  0.021523796021938324\n",
      "Validation Accuracy:  0.14285714285714285\n",
      "Epoch  8\n"
     ]
    },
    {
     "name": "stderr",
     "output_type": "stream",
     "text": [
      "100%|██████████| 12/12 [00:08<00:00,  1.35it/s]\n"
     ]
    },
    {
     "name": "stdout",
     "output_type": "stream",
     "text": [
      "Training Accuracy:  0.1772853185595568\n",
      "Training Loss:  0.021897442638874054\n",
      "Validation Accuracy:  0.13636363636363635\n",
      "Epoch  9\n"
     ]
    },
    {
     "name": "stderr",
     "output_type": "stream",
     "text": [
      "100%|██████████| 12/12 [00:08<00:00,  1.34it/s]\n"
     ]
    },
    {
     "name": "stdout",
     "output_type": "stream",
     "text": [
      "Training Accuracy:  0.1772853185595568\n",
      "Training Loss:  0.022068725898861885\n",
      "Validation Accuracy:  0.13636363636363635\n",
      "Epoch  10\n"
     ]
    },
    {
     "name": "stderr",
     "output_type": "stream",
     "text": [
      "100%|██████████| 12/12 [00:10<00:00,  1.12it/s]\n"
     ]
    },
    {
     "name": "stdout",
     "output_type": "stream",
     "text": [
      "Training Accuracy:  0.1772853185595568\n",
      "Training Loss:  0.021343529224395752\n",
      "Validation Accuracy:  0.13636363636363635\n",
      "Epoch  11\n"
     ]
    },
    {
     "name": "stderr",
     "output_type": "stream",
     "text": [
      "100%|██████████| 12/12 [00:14<00:00,  1.19s/it]\n"
     ]
    },
    {
     "name": "stdout",
     "output_type": "stream",
     "text": [
      "Training Accuracy:  0.2451523545706371\n",
      "Training Loss:  0.021641267463564873\n",
      "Validation Accuracy:  0.2857142857142857\n",
      "Epoch  12\n"
     ]
    },
    {
     "name": "stderr",
     "output_type": "stream",
     "text": [
      "100%|██████████| 12/12 [00:09<00:00,  1.33it/s]\n"
     ]
    },
    {
     "name": "stdout",
     "output_type": "stream",
     "text": [
      "Training Accuracy:  0.1814404432132964\n",
      "Training Loss:  0.021511970087885857\n",
      "Validation Accuracy:  0.14285714285714285\n",
      "Epoch  13\n"
     ]
    },
    {
     "name": "stderr",
     "output_type": "stream",
     "text": [
      "100%|██████████| 12/12 [00:08<00:00,  1.35it/s]\n"
     ]
    },
    {
     "name": "stdout",
     "output_type": "stream",
     "text": [
      "Training Accuracy:  0.22022160664819945\n",
      "Training Loss:  0.021720927208662033\n",
      "Validation Accuracy:  0.19480519480519481\n",
      "Epoch  14\n"
     ]
    },
    {
     "name": "stderr",
     "output_type": "stream",
     "text": [
      "100%|██████████| 12/12 [00:08<00:00,  1.36it/s]\n"
     ]
    },
    {
     "name": "stdout",
     "output_type": "stream",
     "text": [
      "Training Accuracy:  0.23407202216066483\n",
      "Training Loss:  0.022119026631116867\n",
      "Validation Accuracy:  0.24675324675324675\n",
      "Epoch  15\n"
     ]
    },
    {
     "name": "stderr",
     "output_type": "stream",
     "text": [
      "100%|██████████| 12/12 [00:08<00:00,  1.36it/s]\n"
     ]
    },
    {
     "name": "stdout",
     "output_type": "stream",
     "text": [
      "Training Accuracy:  0.18005540166204986\n",
      "Training Loss:  0.02149350754916668\n",
      "Validation Accuracy:  0.13636363636363635\n",
      "Epoch  16\n"
     ]
    },
    {
     "name": "stderr",
     "output_type": "stream",
     "text": [
      "100%|██████████| 12/12 [00:08<00:00,  1.35it/s]\n"
     ]
    },
    {
     "name": "stdout",
     "output_type": "stream",
     "text": [
      "Training Accuracy:  0.24653739612188366\n",
      "Training Loss:  0.021672766655683517\n",
      "Validation Accuracy:  0.2727272727272727\n",
      "Epoch  17\n"
     ]
    },
    {
     "name": "stderr",
     "output_type": "stream",
     "text": [
      "100%|██████████| 12/12 [00:08<00:00,  1.35it/s]\n"
     ]
    },
    {
     "name": "stdout",
     "output_type": "stream",
     "text": [
      "Training Accuracy:  0.27008310249307477\n",
      "Training Loss:  0.021855803206562996\n",
      "Validation Accuracy:  0.2922077922077922\n",
      "Epoch  18\n"
     ]
    },
    {
     "name": "stderr",
     "output_type": "stream",
     "text": [
      "100%|██████████| 12/12 [00:08<00:00,  1.37it/s]\n"
     ]
    },
    {
     "name": "stdout",
     "output_type": "stream",
     "text": [
      "Training Accuracy:  0.17590027700831026\n",
      "Training Loss:  0.021689241752028465\n",
      "Validation Accuracy:  0.13636363636363635\n",
      "Epoch  19\n"
     ]
    },
    {
     "name": "stderr",
     "output_type": "stream",
     "text": [
      "100%|██████████| 12/12 [00:08<00:00,  1.34it/s]\n"
     ]
    },
    {
     "name": "stdout",
     "output_type": "stream",
     "text": [
      "Training Accuracy:  0.19113573407202217\n",
      "Training Loss:  0.021468982100486755\n",
      "Validation Accuracy:  0.14285714285714285\n",
      "Epoch  20\n"
     ]
    },
    {
     "name": "stderr",
     "output_type": "stream",
     "text": [
      "100%|██████████| 12/12 [00:08<00:00,  1.36it/s]\n"
     ]
    },
    {
     "name": "stdout",
     "output_type": "stream",
     "text": [
      "Training Accuracy:  0.26869806094182824\n",
      "Training Loss:  0.021286074072122574\n",
      "Validation Accuracy:  0.3181818181818182\n",
      "Epoch  21\n"
     ]
    },
    {
     "name": "stderr",
     "output_type": "stream",
     "text": [
      "100%|██████████| 12/12 [00:08<00:00,  1.36it/s]\n"
     ]
    },
    {
     "name": "stdout",
     "output_type": "stream",
     "text": [
      "Training Accuracy:  0.27008310249307477\n",
      "Training Loss:  0.02164243906736374\n",
      "Validation Accuracy:  0.2922077922077922\n",
      "Epoch  22\n"
     ]
    },
    {
     "name": "stderr",
     "output_type": "stream",
     "text": [
      "100%|██████████| 12/12 [00:08<00:00,  1.36it/s]\n"
     ]
    },
    {
     "name": "stdout",
     "output_type": "stream",
     "text": [
      "Training Accuracy:  0.22853185595567868\n",
      "Training Loss:  0.02138541266322136\n",
      "Validation Accuracy:  0.2012987012987013\n",
      "Epoch  23\n"
     ]
    },
    {
     "name": "stderr",
     "output_type": "stream",
     "text": [
      "100%|██████████| 12/12 [00:08<00:00,  1.36it/s]\n"
     ]
    },
    {
     "name": "stdout",
     "output_type": "stream",
     "text": [
      "Training Accuracy:  0.21052631578947367\n",
      "Training Loss:  0.021824149414896965\n",
      "Validation Accuracy:  0.18831168831168832\n",
      "Epoch  24\n"
     ]
    },
    {
     "name": "stderr",
     "output_type": "stream",
     "text": [
      "100%|██████████| 12/12 [00:08<00:00,  1.36it/s]\n"
     ]
    },
    {
     "name": "stdout",
     "output_type": "stream",
     "text": [
      "Training Accuracy:  0.20221606648199447\n",
      "Training Loss:  0.02166529931128025\n",
      "Validation Accuracy:  0.18831168831168832\n",
      "Epoch  25\n"
     ]
    },
    {
     "name": "stderr",
     "output_type": "stream",
     "text": [
      "100%|██████████| 12/12 [00:08<00:00,  1.37it/s]\n"
     ]
    },
    {
     "name": "stdout",
     "output_type": "stream",
     "text": [
      "Training Accuracy:  0.2562326869806094\n",
      "Training Loss:  0.022336212918162346\n",
      "Validation Accuracy:  0.2727272727272727\n",
      "Epoch  26\n"
     ]
    },
    {
     "name": "stderr",
     "output_type": "stream",
     "text": [
      "100%|██████████| 12/12 [00:08<00:00,  1.35it/s]\n"
     ]
    },
    {
     "name": "stdout",
     "output_type": "stream",
     "text": [
      "Training Accuracy:  0.4515235457063712\n",
      "Training Loss:  0.021787621080875397\n",
      "Validation Accuracy:  0.36363636363636365\n",
      "Epoch  27\n"
     ]
    },
    {
     "name": "stderr",
     "output_type": "stream",
     "text": [
      "100%|██████████| 12/12 [00:08<00:00,  1.36it/s]\n"
     ]
    },
    {
     "name": "stdout",
     "output_type": "stream",
     "text": [
      "Training Accuracy:  0.5041551246537396\n",
      "Training Loss:  0.021509261801838875\n",
      "Validation Accuracy:  0.5064935064935064\n",
      "Epoch  28\n"
     ]
    },
    {
     "name": "stderr",
     "output_type": "stream",
     "text": [
      "100%|██████████| 12/12 [00:08<00:00,  1.36it/s]\n"
     ]
    },
    {
     "name": "stdout",
     "output_type": "stream",
     "text": [
      "Training Accuracy:  0.2659279778393352\n",
      "Training Loss:  0.021181561052799225\n",
      "Validation Accuracy:  0.3116883116883117\n",
      "Epoch  29\n"
     ]
    },
    {
     "name": "stderr",
     "output_type": "stream",
     "text": [
      "100%|██████████| 12/12 [00:08<00:00,  1.37it/s]\n"
     ]
    },
    {
     "name": "stdout",
     "output_type": "stream",
     "text": [
      "Training Accuracy:  0.27008310249307477\n",
      "Training Loss:  0.021693533286452293\n",
      "Validation Accuracy:  0.3181818181818182\n",
      "Epoch  30\n"
     ]
    },
    {
     "name": "stderr",
     "output_type": "stream",
     "text": [
      "100%|██████████| 12/12 [00:08<00:00,  1.36it/s]\n"
     ]
    },
    {
     "name": "stdout",
     "output_type": "stream",
     "text": [
      "Training Accuracy:  0.4916897506925208\n",
      "Training Loss:  0.021726958453655243\n",
      "Validation Accuracy:  0.474025974025974\n",
      "Epoch  31\n"
     ]
    },
    {
     "name": "stderr",
     "output_type": "stream",
     "text": [
      "100%|██████████| 12/12 [00:08<00:00,  1.36it/s]\n"
     ]
    },
    {
     "name": "stdout",
     "output_type": "stream",
     "text": [
      "Training Accuracy:  0.3975069252077562\n",
      "Training Loss:  0.022033831104636192\n",
      "Validation Accuracy:  0.45454545454545453\n",
      "Epoch  32\n"
     ]
    },
    {
     "name": "stderr",
     "output_type": "stream",
     "text": [
      "100%|██████████| 12/12 [00:08<00:00,  1.36it/s]\n"
     ]
    },
    {
     "name": "stdout",
     "output_type": "stream",
     "text": [
      "Training Accuracy:  0.5083102493074793\n",
      "Training Loss:  0.02146400511264801\n",
      "Validation Accuracy:  0.5064935064935064\n",
      "Epoch  33\n"
     ]
    },
    {
     "name": "stderr",
     "output_type": "stream",
     "text": [
      "100%|██████████| 12/12 [00:08<00:00,  1.37it/s]\n"
     ]
    },
    {
     "name": "stdout",
     "output_type": "stream",
     "text": [
      "Training Accuracy:  0.5110803324099723\n",
      "Training Loss:  0.021439045667648315\n",
      "Validation Accuracy:  0.4935064935064935\n",
      "Epoch  34\n"
     ]
    },
    {
     "name": "stderr",
     "output_type": "stream",
     "text": [
      "100%|██████████| 12/12 [00:08<00:00,  1.35it/s]\n"
     ]
    },
    {
     "name": "stdout",
     "output_type": "stream",
     "text": [
      "Training Accuracy:  0.2659279778393352\n",
      "Training Loss:  0.02175188809633255\n",
      "Validation Accuracy:  0.3116883116883117\n",
      "Epoch  35\n"
     ]
    },
    {
     "name": "stderr",
     "output_type": "stream",
     "text": [
      "100%|██████████| 12/12 [00:08<00:00,  1.36it/s]\n"
     ]
    },
    {
     "name": "stdout",
     "output_type": "stream",
     "text": [
      "Training Accuracy:  0.2659279778393352\n",
      "Training Loss:  0.022176088765263557\n",
      "Validation Accuracy:  0.3116883116883117\n",
      "Epoch  36\n"
     ]
    },
    {
     "name": "stderr",
     "output_type": "stream",
     "text": [
      "100%|██████████| 12/12 [00:08<00:00,  1.35it/s]\n"
     ]
    },
    {
     "name": "stdout",
     "output_type": "stream",
     "text": [
      "Training Accuracy:  0.5083102493074793\n",
      "Training Loss:  0.021690089255571365\n",
      "Validation Accuracy:  0.5064935064935064\n",
      "Epoch  37\n"
     ]
    },
    {
     "name": "stderr",
     "output_type": "stream",
     "text": [
      "100%|██████████| 12/12 [00:08<00:00,  1.36it/s]\n"
     ]
    },
    {
     "name": "stdout",
     "output_type": "stream",
     "text": [
      "Training Accuracy:  0.5083102493074793\n",
      "Training Loss:  0.02166619710624218\n",
      "Validation Accuracy:  0.5064935064935064\n",
      "Epoch  38\n"
     ]
    },
    {
     "name": "stderr",
     "output_type": "stream",
     "text": [
      "100%|██████████| 12/12 [00:22<00:00,  1.89s/it]\n"
     ]
    },
    {
     "name": "stdout",
     "output_type": "stream",
     "text": [
      "Training Accuracy:  0.28254847645429365\n",
      "Training Loss:  0.02199830487370491\n",
      "Validation Accuracy:  0.3246753246753247\n",
      "Epoch  39\n"
     ]
    },
    {
     "name": "stderr",
     "output_type": "stream",
     "text": [
      "100%|██████████| 12/12 [00:35<00:00,  2.93s/it]\n"
     ]
    },
    {
     "name": "stdout",
     "output_type": "stream",
     "text": [
      "Training Accuracy:  0.5041551246537396\n",
      "Training Loss:  0.021444855257868767\n",
      "Validation Accuracy:  0.5064935064935064\n",
      "Epoch  40\n"
     ]
    },
    {
     "name": "stderr",
     "output_type": "stream",
     "text": [
      "100%|██████████| 12/12 [00:09<00:00,  1.25it/s]\n"
     ]
    },
    {
     "name": "stdout",
     "output_type": "stream",
     "text": [
      "Training Accuracy:  0.48476454293628807\n",
      "Training Loss:  0.021679433062672615\n",
      "Validation Accuracy:  0.538961038961039\n",
      "Epoch  41\n"
     ]
    },
    {
     "name": "stderr",
     "output_type": "stream",
     "text": [
      "100%|██████████| 12/12 [00:09<00:00,  1.32it/s]\n"
     ]
    },
    {
     "name": "stdout",
     "output_type": "stream",
     "text": [
      "Training Accuracy:  0.4889196675900277\n",
      "Training Loss:  0.021392138674855232\n",
      "Validation Accuracy:  0.487012987012987\n",
      "Epoch  42\n"
     ]
    },
    {
     "name": "stderr",
     "output_type": "stream",
     "text": [
      "100%|██████████| 12/12 [00:09<00:00,  1.32it/s]\n"
     ]
    },
    {
     "name": "stdout",
     "output_type": "stream",
     "text": [
      "Training Accuracy:  0.26454293628808867\n",
      "Training Loss:  0.02175305038690567\n",
      "Validation Accuracy:  0.3246753246753247\n",
      "Epoch  43\n"
     ]
    },
    {
     "name": "stderr",
     "output_type": "stream",
     "text": [
      "100%|██████████| 12/12 [00:09<00:00,  1.32it/s]\n"
     ]
    },
    {
     "name": "stdout",
     "output_type": "stream",
     "text": [
      "Training Accuracy:  0.4986149584487535\n",
      "Training Loss:  0.021295735612511635\n",
      "Validation Accuracy:  0.5324675324675324\n",
      "Epoch  44\n"
     ]
    },
    {
     "name": "stderr",
     "output_type": "stream",
     "text": [
      "100%|██████████| 12/12 [00:09<00:00,  1.32it/s]\n"
     ]
    },
    {
     "name": "stdout",
     "output_type": "stream",
     "text": [
      "Training Accuracy:  0.5083102493074793\n",
      "Training Loss:  0.02199374884366989\n",
      "Validation Accuracy:  0.5064935064935064\n",
      "Epoch  45\n"
     ]
    },
    {
     "name": "stderr",
     "output_type": "stream",
     "text": [
      "100%|██████████| 12/12 [00:09<00:00,  1.32it/s]\n"
     ]
    },
    {
     "name": "stdout",
     "output_type": "stream",
     "text": [
      "Training Accuracy:  0.5083102493074793\n",
      "Training Loss:  0.021656490862369537\n",
      "Validation Accuracy:  0.487012987012987\n",
      "Epoch  46\n"
     ]
    },
    {
     "name": "stderr",
     "output_type": "stream",
     "text": [
      "100%|██████████| 12/12 [00:09<00:00,  1.33it/s]\n"
     ]
    },
    {
     "name": "stdout",
     "output_type": "stream",
     "text": [
      "Training Accuracy:  0.4889196675900277\n",
      "Training Loss:  0.021781545132398605\n",
      "Validation Accuracy:  0.4935064935064935\n",
      "Epoch  47\n"
     ]
    },
    {
     "name": "stderr",
     "output_type": "stream",
     "text": [
      "100%|██████████| 12/12 [00:09<00:00,  1.31it/s]\n"
     ]
    },
    {
     "name": "stdout",
     "output_type": "stream",
     "text": [
      "Training Accuracy:  0.27008310249307477\n",
      "Training Loss:  0.02200951986014843\n",
      "Validation Accuracy:  0.3181818181818182\n",
      "Epoch  48\n"
     ]
    },
    {
     "name": "stderr",
     "output_type": "stream",
     "text": [
      "100%|██████████| 12/12 [00:09<00:00,  1.31it/s]\n"
     ]
    },
    {
     "name": "stdout",
     "output_type": "stream",
     "text": [
      "Training Accuracy:  0.49584487534626037\n",
      "Training Loss:  0.02143275737762451\n",
      "Validation Accuracy:  0.5194805194805194\n",
      "Epoch  49\n"
     ]
    },
    {
     "name": "stderr",
     "output_type": "stream",
     "text": [
      "100%|██████████| 12/12 [00:09<00:00,  1.31it/s]\n"
     ]
    },
    {
     "name": "stdout",
     "output_type": "stream",
     "text": [
      "Training Accuracy:  0.4903047091412742\n",
      "Training Loss:  0.02178451605141163\n",
      "Validation Accuracy:  0.512987012987013\n",
      "Epoch  50\n"
     ]
    },
    {
     "name": "stderr",
     "output_type": "stream",
     "text": [
      "100%|██████████| 12/12 [00:09<00:00,  1.33it/s]\n"
     ]
    },
    {
     "name": "stdout",
     "output_type": "stream",
     "text": [
      "Training Accuracy:  0.4889196675900277\n",
      "Training Loss:  0.021682562306523323\n",
      "Validation Accuracy:  0.45454545454545453\n",
      "Epoch  51\n"
     ]
    },
    {
     "name": "stderr",
     "output_type": "stream",
     "text": [
      "100%|██████████| 12/12 [00:09<00:00,  1.33it/s]\n"
     ]
    },
    {
     "name": "stdout",
     "output_type": "stream",
     "text": [
      "Training Accuracy:  0.3407202216066482\n",
      "Training Loss:  0.021689841523766518\n",
      "Validation Accuracy:  0.34415584415584416\n",
      "Epoch  52\n"
     ]
    },
    {
     "name": "stderr",
     "output_type": "stream",
     "text": [
      "100%|██████████| 12/12 [00:09<00:00,  1.33it/s]\n"
     ]
    },
    {
     "name": "stdout",
     "output_type": "stream",
     "text": [
      "Training Accuracy:  0.4390581717451524\n",
      "Training Loss:  0.02188662439584732\n",
      "Validation Accuracy:  0.5194805194805194\n",
      "Epoch  53\n"
     ]
    },
    {
     "name": "stderr",
     "output_type": "stream",
     "text": [
      "100%|██████████| 12/12 [00:09<00:00,  1.32it/s]\n"
     ]
    },
    {
     "name": "stdout",
     "output_type": "stream",
     "text": [
      "Training Accuracy:  0.502770083102493\n",
      "Training Loss:  0.02137121744453907\n",
      "Validation Accuracy:  0.5\n",
      "Epoch  54\n"
     ]
    },
    {
     "name": "stderr",
     "output_type": "stream",
     "text": [
      "100%|██████████| 12/12 [00:09<00:00,  1.29it/s]\n"
     ]
    },
    {
     "name": "stdout",
     "output_type": "stream",
     "text": [
      "Training Accuracy:  0.4099722991689751\n",
      "Training Loss:  0.021902622655034065\n",
      "Validation Accuracy:  0.4025974025974026\n",
      "Epoch  55\n"
     ]
    },
    {
     "name": "stderr",
     "output_type": "stream",
     "text": [
      "100%|██████████| 12/12 [00:09<00:00,  1.32it/s]\n"
     ]
    },
    {
     "name": "stdout",
     "output_type": "stream",
     "text": [
      "Training Accuracy:  0.47229916897506924\n",
      "Training Loss:  0.02201320044696331\n",
      "Validation Accuracy:  0.461038961038961\n",
      "Epoch  56\n"
     ]
    },
    {
     "name": "stderr",
     "output_type": "stream",
     "text": [
      "100%|██████████| 12/12 [00:08<00:00,  1.33it/s]\n"
     ]
    },
    {
     "name": "stdout",
     "output_type": "stream",
     "text": [
      "Training Accuracy:  0.4889196675900277\n",
      "Training Loss:  0.02167643792927265\n",
      "Validation Accuracy:  0.42857142857142855\n",
      "Epoch  57\n"
     ]
    },
    {
     "name": "stderr",
     "output_type": "stream",
     "text": [
      "100%|██████████| 12/12 [00:09<00:00,  1.32it/s]\n"
     ]
    },
    {
     "name": "stdout",
     "output_type": "stream",
     "text": [
      "Training Accuracy:  0.47229916897506924\n",
      "Training Loss:  0.02165028639137745\n",
      "Validation Accuracy:  0.5064935064935064\n",
      "Epoch  58\n"
     ]
    },
    {
     "name": "stderr",
     "output_type": "stream",
     "text": [
      "100%|██████████| 12/12 [00:09<00:00,  1.32it/s]\n"
     ]
    },
    {
     "name": "stdout",
     "output_type": "stream",
     "text": [
      "Training Accuracy:  0.2894736842105263\n",
      "Training Loss:  0.021642083302140236\n",
      "Validation Accuracy:  0.33766233766233766\n",
      "Epoch  59\n"
     ]
    },
    {
     "name": "stderr",
     "output_type": "stream",
     "text": [
      "100%|██████████| 12/12 [00:09<00:00,  1.32it/s]\n"
     ]
    },
    {
     "name": "stdout",
     "output_type": "stream",
     "text": [
      "Training Accuracy:  0.26177285318559557\n",
      "Training Loss:  0.02142271399497986\n",
      "Validation Accuracy:  0.3181818181818182\n",
      "Epoch  60\n"
     ]
    },
    {
     "name": "stderr",
     "output_type": "stream",
     "text": [
      "100%|██████████| 12/12 [00:08<00:00,  1.34it/s]\n"
     ]
    },
    {
     "name": "stdout",
     "output_type": "stream",
     "text": [
      "Training Accuracy:  0.2659279778393352\n",
      "Training Loss:  0.021802611649036407\n",
      "Validation Accuracy:  0.3181818181818182\n",
      "Epoch  61\n"
     ]
    },
    {
     "name": "stderr",
     "output_type": "stream",
     "text": [
      "100%|██████████| 12/12 [00:09<00:00,  1.32it/s]\n"
     ]
    },
    {
     "name": "stdout",
     "output_type": "stream",
     "text": [
      "Training Accuracy:  0.4155124653739612\n",
      "Training Loss:  0.021679900586605072\n",
      "Validation Accuracy:  0.4025974025974026\n",
      "Epoch  62\n"
     ]
    },
    {
     "name": "stderr",
     "output_type": "stream",
     "text": [
      "100%|██████████| 12/12 [00:09<00:00,  1.33it/s]\n"
     ]
    },
    {
     "name": "stdout",
     "output_type": "stream",
     "text": [
      "Training Accuracy:  0.5083102493074793\n",
      "Training Loss:  0.021830275654792786\n",
      "Validation Accuracy:  0.5\n",
      "Epoch  63\n"
     ]
    },
    {
     "name": "stderr",
     "output_type": "stream",
     "text": [
      "100%|██████████| 12/12 [00:09<00:00,  1.33it/s]\n"
     ]
    },
    {
     "name": "stdout",
     "output_type": "stream",
     "text": [
      "Training Accuracy:  0.2299168975069252\n",
      "Training Loss:  0.02185174450278282\n",
      "Validation Accuracy:  0.18831168831168832\n",
      "Epoch  64\n"
     ]
    },
    {
     "name": "stderr",
     "output_type": "stream",
     "text": [
      "100%|██████████| 12/12 [00:09<00:00,  1.32it/s]\n"
     ]
    },
    {
     "name": "stdout",
     "output_type": "stream",
     "text": [
      "Training Accuracy:  0.23268698060941828\n",
      "Training Loss:  0.02156529575586319\n",
      "Validation Accuracy:  0.22077922077922077\n",
      "Epoch  65\n"
     ]
    },
    {
     "name": "stderr",
     "output_type": "stream",
     "text": [
      "100%|██████████| 12/12 [00:08<00:00,  1.33it/s]\n"
     ]
    },
    {
     "name": "stdout",
     "output_type": "stream",
     "text": [
      "Training Accuracy:  0.49445983379501385\n",
      "Training Loss:  0.0215012039989233\n",
      "Validation Accuracy:  0.4935064935064935\n",
      "Epoch  66\n"
     ]
    },
    {
     "name": "stderr",
     "output_type": "stream",
     "text": [
      "100%|██████████| 12/12 [00:08<00:00,  1.36it/s]\n"
     ]
    },
    {
     "name": "stdout",
     "output_type": "stream",
     "text": [
      "Training Accuracy:  0.2659279778393352\n",
      "Training Loss:  0.02172752097249031\n",
      "Validation Accuracy:  0.3116883116883117\n",
      "Epoch  67\n"
     ]
    },
    {
     "name": "stderr",
     "output_type": "stream",
     "text": [
      "100%|██████████| 12/12 [00:08<00:00,  1.36it/s]\n"
     ]
    },
    {
     "name": "stdout",
     "output_type": "stream",
     "text": [
      "Training Accuracy:  0.26869806094182824\n",
      "Training Loss:  0.021438460797071457\n",
      "Validation Accuracy:  0.3116883116883117\n",
      "Epoch  68\n"
     ]
    },
    {
     "name": "stderr",
     "output_type": "stream",
     "text": [
      "100%|██████████| 12/12 [00:08<00:00,  1.36it/s]\n"
     ]
    },
    {
     "name": "stdout",
     "output_type": "stream",
     "text": [
      "Training Accuracy:  0.5069252077562327\n",
      "Training Loss:  0.02189813181757927\n",
      "Validation Accuracy:  0.5064935064935064\n",
      "Epoch  69\n"
     ]
    },
    {
     "name": "stderr",
     "output_type": "stream",
     "text": [
      "100%|██████████| 12/12 [00:09<00:00,  1.32it/s]\n"
     ]
    },
    {
     "name": "stdout",
     "output_type": "stream",
     "text": [
      "Training Accuracy:  0.5055401662049861\n",
      "Training Loss:  0.021489109843969345\n",
      "Validation Accuracy:  0.5064935064935064\n",
      "Epoch  70\n"
     ]
    },
    {
     "name": "stderr",
     "output_type": "stream",
     "text": [
      "100%|██████████| 12/12 [00:09<00:00,  1.32it/s]\n"
     ]
    },
    {
     "name": "stdout",
     "output_type": "stream",
     "text": [
      "Training Accuracy:  0.46537396121883656\n",
      "Training Loss:  0.021702732890844345\n",
      "Validation Accuracy:  0.44805194805194803\n",
      "Epoch  71\n"
     ]
    },
    {
     "name": "stderr",
     "output_type": "stream",
     "text": [
      "100%|██████████| 12/12 [00:09<00:00,  1.24it/s]\n"
     ]
    },
    {
     "name": "stdout",
     "output_type": "stream",
     "text": [
      "Training Accuracy:  0.32132963988919666\n",
      "Training Loss:  0.021740281954407692\n",
      "Validation Accuracy:  0.2922077922077922\n",
      "Epoch  72\n"
     ]
    },
    {
     "name": "stderr",
     "output_type": "stream",
     "text": [
      "100%|██████████| 12/12 [00:24<00:00,  2.02s/it]\n"
     ]
    },
    {
     "name": "stdout",
     "output_type": "stream",
     "text": [
      "Training Accuracy:  0.4099722991689751\n",
      "Training Loss:  0.021865064278244972\n",
      "Validation Accuracy:  0.42207792207792205\n",
      "Epoch  73\n"
     ]
    },
    {
     "name": "stderr",
     "output_type": "stream",
     "text": [
      "100%|██████████| 12/12 [00:22<00:00,  1.86s/it]\n"
     ]
    },
    {
     "name": "stdout",
     "output_type": "stream",
     "text": [
      "Training Accuracy:  0.5055401662049861\n",
      "Training Loss:  0.02152206003665924\n",
      "Validation Accuracy:  0.4935064935064935\n",
      "Epoch  74\n"
     ]
    },
    {
     "name": "stderr",
     "output_type": "stream",
     "text": [
      "100%|██████████| 12/12 [00:16<00:00,  1.41s/it]\n"
     ]
    },
    {
     "name": "stdout",
     "output_type": "stream",
     "text": [
      "Training Accuracy:  0.5152354570637119\n",
      "Training Loss:  0.021535618230700493\n",
      "Validation Accuracy:  0.4805194805194805\n",
      "Epoch  75\n"
     ]
    },
    {
     "name": "stderr",
     "output_type": "stream",
     "text": [
      "100%|██████████| 12/12 [00:17<00:00,  1.42s/it]\n"
     ]
    },
    {
     "name": "stdout",
     "output_type": "stream",
     "text": [
      "Training Accuracy:  0.26869806094182824\n",
      "Training Loss:  0.021834542974829674\n",
      "Validation Accuracy:  0.2922077922077922\n",
      "Epoch  76\n"
     ]
    },
    {
     "name": "stderr",
     "output_type": "stream",
     "text": [
      "100%|██████████| 12/12 [00:18<00:00,  1.55s/it]\n"
     ]
    },
    {
     "name": "stdout",
     "output_type": "stream",
     "text": [
      "Training Accuracy:  0.4182825484764543\n",
      "Training Loss:  0.0214226096868515\n",
      "Validation Accuracy:  0.37012987012987014\n",
      "Epoch  77\n"
     ]
    },
    {
     "name": "stderr",
     "output_type": "stream",
     "text": [
      "100%|██████████| 12/12 [00:17<00:00,  1.46s/it]\n"
     ]
    },
    {
     "name": "stdout",
     "output_type": "stream",
     "text": [
      "Training Accuracy:  0.42382271468144045\n",
      "Training Loss:  0.021774210035800934\n",
      "Validation Accuracy:  0.42857142857142855\n",
      "Epoch  78\n"
     ]
    },
    {
     "name": "stderr",
     "output_type": "stream",
     "text": [
      "100%|██████████| 12/12 [00:16<00:00,  1.41s/it]\n"
     ]
    },
    {
     "name": "stdout",
     "output_type": "stream",
     "text": [
      "Training Accuracy:  0.2853185595567867\n",
      "Training Loss:  0.021744757890701294\n",
      "Validation Accuracy:  0.3181818181818182\n",
      "Epoch  79\n"
     ]
    },
    {
     "name": "stderr",
     "output_type": "stream",
     "text": [
      "100%|██████████| 12/12 [00:19<00:00,  1.59s/it]\n"
     ]
    },
    {
     "name": "stdout",
     "output_type": "stream",
     "text": [
      "Training Accuracy:  0.21191135734072022\n",
      "Training Loss:  0.02198667638003826\n",
      "Validation Accuracy:  0.18831168831168832\n",
      "Epoch  80\n"
     ]
    },
    {
     "name": "stderr",
     "output_type": "stream",
     "text": [
      "100%|██████████| 12/12 [00:09<00:00,  1.21it/s]\n"
     ]
    },
    {
     "name": "stdout",
     "output_type": "stream",
     "text": [
      "Training Accuracy:  0.48476454293628807\n",
      "Training Loss:  0.02185710333287716\n",
      "Validation Accuracy:  0.5\n",
      "Epoch  81\n"
     ]
    },
    {
     "name": "stderr",
     "output_type": "stream",
     "text": [
      "100%|██████████| 12/12 [00:11<00:00,  1.06it/s]\n"
     ]
    },
    {
     "name": "stdout",
     "output_type": "stream",
     "text": [
      "Training Accuracy:  0.5069252077562327\n",
      "Training Loss:  0.021464692428708076\n",
      "Validation Accuracy:  0.474025974025974\n",
      "Epoch  82\n"
     ]
    },
    {
     "name": "stderr",
     "output_type": "stream",
     "text": [
      "100%|██████████| 12/12 [00:09<00:00,  1.29it/s]\n"
     ]
    },
    {
     "name": "stdout",
     "output_type": "stream",
     "text": [
      "Training Accuracy:  0.4445983379501385\n",
      "Training Loss:  0.021703511476516724\n",
      "Validation Accuracy:  0.4935064935064935\n",
      "Epoch  83\n"
     ]
    },
    {
     "name": "stderr",
     "output_type": "stream",
     "text": [
      "100%|██████████| 12/12 [00:09<00:00,  1.21it/s]\n"
     ]
    },
    {
     "name": "stdout",
     "output_type": "stream",
     "text": [
      "Training Accuracy:  0.32271468144044324\n",
      "Training Loss:  0.021877072751522064\n",
      "Validation Accuracy:  0.34415584415584416\n",
      "Epoch  84\n"
     ]
    },
    {
     "name": "stderr",
     "output_type": "stream",
     "text": [
      "100%|██████████| 12/12 [00:10<00:00,  1.18it/s]\n"
     ]
    },
    {
     "name": "stdout",
     "output_type": "stream",
     "text": [
      "Training Accuracy:  0.4778393351800554\n",
      "Training Loss:  0.021457208320498466\n",
      "Validation Accuracy:  0.512987012987013\n",
      "Epoch  85\n"
     ]
    },
    {
     "name": "stderr",
     "output_type": "stream",
     "text": [
      "100%|██████████| 12/12 [00:09<00:00,  1.28it/s]\n"
     ]
    },
    {
     "name": "stdout",
     "output_type": "stream",
     "text": [
      "Training Accuracy:  0.4196675900277008\n",
      "Training Loss:  0.021682336926460266\n",
      "Validation Accuracy:  0.33766233766233766\n",
      "Epoch  86\n"
     ]
    },
    {
     "name": "stderr",
     "output_type": "stream",
     "text": [
      "100%|██████████| 12/12 [00:09<00:00,  1.21it/s]\n"
     ]
    },
    {
     "name": "stdout",
     "output_type": "stream",
     "text": [
      "Training Accuracy:  0.425207756232687\n",
      "Training Loss:  0.021421212702989578\n",
      "Validation Accuracy:  0.4155844155844156\n",
      "Epoch  87\n"
     ]
    },
    {
     "name": "stderr",
     "output_type": "stream",
     "text": [
      "100%|██████████| 12/12 [00:40<00:00,  3.37s/it]\n"
     ]
    },
    {
     "name": "stdout",
     "output_type": "stream",
     "text": [
      "Training Accuracy:  0.4986149584487535\n",
      "Training Loss:  0.021683715283870697\n",
      "Validation Accuracy:  0.45454545454545453\n",
      "Epoch  88\n"
     ]
    },
    {
     "name": "stderr",
     "output_type": "stream",
     "text": [
      "100%|██████████| 12/12 [00:13<00:00,  1.15s/it]\n"
     ]
    },
    {
     "name": "stdout",
     "output_type": "stream",
     "text": [
      "Training Accuracy:  0.4709141274238227\n",
      "Training Loss:  0.02157001942396164\n",
      "Validation Accuracy:  0.4805194805194805\n",
      "Epoch  89\n"
     ]
    },
    {
     "name": "stderr",
     "output_type": "stream",
     "text": [
      "100%|██████████| 12/12 [00:09<00:00,  1.29it/s]\n"
     ]
    },
    {
     "name": "stdout",
     "output_type": "stream",
     "text": [
      "Training Accuracy:  0.41412742382271467\n",
      "Training Loss:  0.021838493645191193\n",
      "Validation Accuracy:  0.38961038961038963\n",
      "Epoch  90\n"
     ]
    },
    {
     "name": "stderr",
     "output_type": "stream",
     "text": [
      "100%|██████████| 12/12 [00:09<00:00,  1.30it/s]\n"
     ]
    },
    {
     "name": "stdout",
     "output_type": "stream",
     "text": [
      "Training Accuracy:  0.46814404432132967\n",
      "Training Loss:  0.02134227193892002\n",
      "Validation Accuracy:  0.4090909090909091\n",
      "Epoch  91\n"
     ]
    },
    {
     "name": "stderr",
     "output_type": "stream",
     "text": [
      "100%|██████████| 12/12 [00:09<00:00,  1.22it/s]\n"
     ]
    },
    {
     "name": "stdout",
     "output_type": "stream",
     "text": [
      "Training Accuracy:  0.26038781163434904\n",
      "Training Loss:  0.021556541323661804\n",
      "Validation Accuracy:  0.24025974025974026\n",
      "Epoch  92\n"
     ]
    },
    {
     "name": "stderr",
     "output_type": "stream",
     "text": [
      "100%|██████████| 12/12 [00:09<00:00,  1.28it/s]\n"
     ]
    },
    {
     "name": "stdout",
     "output_type": "stream",
     "text": [
      "Training Accuracy:  0.4598337950138504\n",
      "Training Loss:  0.021438056603074074\n",
      "Validation Accuracy:  0.44805194805194803\n",
      "Epoch  93\n"
     ]
    },
    {
     "name": "stderr",
     "output_type": "stream",
     "text": [
      "100%|██████████| 12/12 [00:09<00:00,  1.25it/s]\n"
     ]
    },
    {
     "name": "stdout",
     "output_type": "stream",
     "text": [
      "Training Accuracy:  0.4916897506925208\n",
      "Training Loss:  0.021313684061169624\n",
      "Validation Accuracy:  0.5064935064935064\n",
      "Epoch  94\n"
     ]
    },
    {
     "name": "stderr",
     "output_type": "stream",
     "text": [
      "100%|██████████| 12/12 [00:09<00:00,  1.27it/s]\n"
     ]
    },
    {
     "name": "stdout",
     "output_type": "stream",
     "text": [
      "Training Accuracy:  0.48614958448753465\n",
      "Training Loss:  0.0217431727796793\n",
      "Validation Accuracy:  0.5194805194805194\n",
      "Epoch  95\n"
     ]
    },
    {
     "name": "stderr",
     "output_type": "stream",
     "text": [
      "100%|██████████| 12/12 [00:09<00:00,  1.27it/s]\n"
     ]
    },
    {
     "name": "stdout",
     "output_type": "stream",
     "text": [
      "Training Accuracy:  0.5\n",
      "Training Loss:  0.021706001833081245\n",
      "Validation Accuracy:  0.4805194805194805\n",
      "Epoch  96\n"
     ]
    },
    {
     "name": "stderr",
     "output_type": "stream",
     "text": [
      "100%|██████████| 12/12 [00:10<00:00,  1.18it/s]\n"
     ]
    },
    {
     "name": "stdout",
     "output_type": "stream",
     "text": [
      "Training Accuracy:  0.49584487534626037\n",
      "Training Loss:  0.021953430026769638\n",
      "Validation Accuracy:  0.5064935064935064\n",
      "Epoch  97\n"
     ]
    },
    {
     "name": "stderr",
     "output_type": "stream",
     "text": [
      "100%|██████████| 12/12 [00:09<00:00,  1.21it/s]\n"
     ]
    },
    {
     "name": "stdout",
     "output_type": "stream",
     "text": [
      "Training Accuracy:  0.4930747922437673\n",
      "Training Loss:  0.02167288400232792\n",
      "Validation Accuracy:  0.5064935064935064\n",
      "Epoch  98\n"
     ]
    },
    {
     "name": "stderr",
     "output_type": "stream",
     "text": [
      "100%|██████████| 12/12 [00:08<00:00,  1.34it/s]\n"
     ]
    },
    {
     "name": "stdout",
     "output_type": "stream",
     "text": [
      "Training Accuracy:  0.203601108033241\n",
      "Training Loss:  0.021735819056630135\n",
      "Validation Accuracy:  0.14935064935064934\n",
      "Epoch  99\n"
     ]
    },
    {
     "name": "stderr",
     "output_type": "stream",
     "text": [
      "100%|██████████| 12/12 [00:08<00:00,  1.34it/s]\n"
     ]
    },
    {
     "name": "stdout",
     "output_type": "stream",
     "text": [
      "Training Accuracy:  0.5041551246537396\n",
      "Training Loss:  0.021847018972039223\n",
      "Validation Accuracy:  0.5\n"
     ]
    },
    {
     "data": {
      "image/png": "[encoded data removed]",
      "text/plain": [
       "<Figure size 432x288 with 1 Axes>"
      ]
     },
     "metadata": {
      "needs_background": "light"
     },
     "output_type": "display_data"
    },
    {
     "data": {
      "image/png": "[encoded data removed]",
      "text/plain": [
       "<Figure size 432x288 with 1 Axes>"
      ]
     },
     "metadata": {
      "needs_background": "light"
     },
     "output_type": "display_data"
    },
    {
     "name": "stdout",
     "output_type": "stream",
     "text": [
      "Final Training Accuracy: 0.5041551246537396\n",
      "Final Validation Accuracy: 0.5\n"
     ]
    }
   ],
   "source": [
    "model = SleepNet_ECG()\n",
    "\n",
    "use_cuda = True\n",
    "\n",
    "if use_cuda and torch.cuda.is_available():\n",
    "  model.cuda()\n",
    "  print(\"Using CUDA\")\n",
    "\n",
    "\n",
    "train(model, train_dataset, val_dataset, batch_size=64,learning_rate = 0.001, num_epochs=100)\n"
   ]
  }
 ],
 "metadata": {
  "kernelspec": {
   "display_name": "base",
   "language": "python",
   "name": "python3"
  },
  "language_info": {
   "codemirror_mode": {
    "name": "ipython",
    "version": 3
   },
   "file_extension": ".py",
   "mimetype": "text/x-python",
   "name": "python",
   "nbconvert_exporter": "python",
   "pygments_lexer": "ipython3",
   "version": "3.9.7"
  }
 },
 "nbformat": 4,
 "nbformat_minor": 2
}
