{
 "cells": [
  {
   "cell_type": "code",
   "execution_count": null,
   "metadata": {},
   "outputs": [],
   "source": [
    "import os\n",
    "\n",
    "import numpy as np\n",
    "import pandas as pd\n",
    "\n",
    "from apple import *\n",
    "from mesa import *"
   ]
  },
  {
   "cell_type": "markdown",
   "metadata": {},
   "source": [
    "### Apple Watch Data"
   ]
  },
  {
   "cell_type": "code",
   "execution_count": null,
   "metadata": {},
   "outputs": [],
   "source": [
    "PATH = '../data/watch/processed/cropped/'\n",
    "# PATH = '../data/watch/origin/'"
   ]
  },
  {
   "cell_type": "code",
   "execution_count": null,
   "metadata": {},
   "outputs": [],
   "source": [
    "subject_ids = []\n",
    "for n, filename in enumerate(os.listdir(PATH)):\n",
    "    filename = filename.split('_')\n",
    "    subject_id = int(filename[0])\n",
    "\n",
    "    if subject_id not in subject_ids:\n",
    "        subject_ids.append(subject_id)\n",
    "    \n",
    "# sort the list\n",
    "sorted_subject_ids = sorted(subject_ids)"
   ]
  },
  {
   "cell_type": "code",
   "execution_count": null,
   "metadata": {},
   "outputs": [],
   "source": [
    "np.array(sorted_subject_ids)"
   ]
  },
  {
   "cell_type": "code",
   "execution_count": null,
   "metadata": {},
   "outputs": [],
   "source": [
    "apple_data = generate_data_to_dic(PATH,\n",
    "                                  second_column_step=1,val_to_fill_nans=-100,\n",
    "                                  print_analysis=False)\n",
    "\n",
    "\n",
    "for subj in sorted_subject_ids:\n",
    "    savepath = \"../data/watch/processed/temp/subject_\" + str(subj) + \".csv\"\n",
    "    apple_data[subj].to_csv(savepath, index=False)\n",
    "\n",
    "\n",
    "df, psg_status = filter_to_epoch(\"../data/watch/processed/temp/\", bin_size=30)\n",
    "\n",
    "\n",
    "for subj in sorted_subject_ids:\n",
    "    ses_id = psg_status[subj].keys()\n",
    "    last_ses = list(ses_id)[-1]\n",
    "    stage = psg_status[subj].values()\n",
    "    \n",
    "    temp = pd.DataFrame({'session_id': ses_id, 'new_psg_status': stage})\n",
    "    \n",
    "    new_df = pd.merge(df[subj], temp, on='session_id')\n",
    "    new_df.drop(columns=[\"psg_status\"], inplace=True)\n",
    "    \n",
    "    new_df.rename(columns={'new_psg_status': 'psg_status'}, inplace=True)\n",
    "    \n",
    "    last_info = new_df[new_df['session_id'] == last_ses]\n",
    "    \n",
    "    if len(last_info) != 30:\n",
    "        new_df.drop(new_df[new_df['session_id'] == last_ses].index, inplace=True)\n",
    "    \n",
    "    savepath = \"../data/watch/processed/final/subject_\" + str(subj) + \".csv\"\n",
    "    new_df.to_csv(savepath, index=False)"
   ]
  },
  {
   "cell_type": "code",
   "execution_count": null,
   "metadata": {},
   "outputs": [],
   "source": [
    "new_df"
   ]
  },
  {
   "cell_type": "markdown",
   "metadata": {},
   "source": [
    "### MESA Data"
   ]
  },
  {
   "cell_type": "code",
   "execution_count": null,
   "metadata": {},
   "outputs": [],
   "source": [
    "import os\n",
    "\n",
    "import numpy as np\n",
    "import pandas as pd\n",
    "\n",
    "from mesa import *"
   ]
  },
  {
   "cell_type": "code",
   "execution_count": null,
   "metadata": {},
   "outputs": [],
   "source": [
    "DATAPATH = '/volumes/990Pro_2TB/UofT/Intro_DL/project/data/'\n",
    "# DATAPATH = '/NFS'\n",
    "subject_ids = get_subject_ids(PATH=os.path.join(DATAPATH, \"./mesa/polysomnography/annotations-events-nsrr\"))\n",
    "len(subject_ids)"
   ]
  },
  {
   "cell_type": "code",
   "execution_count": null,
   "metadata": {},
   "outputs": [],
   "source": [
    "SAVEPATH=\"/NFS/Users/moonsh/data/mesa/preproc/npy/\"\n",
    "Error = mesa_preprocessing(subject_ids, savepath=SAVEPATH)"
   ]
  },
  {
   "cell_type": "code",
   "execution_count": null,
   "metadata": {},
   "outputs": [],
   "source": [
    "for subj in subject_ids:\n",
    "\n",
    "    if subj not in Error:\n",
    "        activity = np.load(SAVEPATH+subj+\"_activity_count.npy\").reshape(-1)\n",
    "        hr = np.load(SAVEPATH+subj+\"_heart_rate.npy\").reshape(-1)\n",
    "        ecg = np.load(SAVEPATH+subj+\"_ecg.npy\").reshape(-1)\n",
    "        psg_status = np.load(SAVEPATH+subj+\"_labeled_sleep.npy\").squeeze()\n",
    "        repeat_psg = []\n",
    "        repeat_cosine = []\n",
    "        session = []\n",
    "        session_ecg = []\n",
    "        psg_ecg = []\n",
    "\n",
    "        ses = 0\n",
    "\n",
    "        for i, psg in enumerate(psg_status):\n",
    "            repeat_psg.extend([psg]*30)            \n",
    "            session.extend([ses]*30)\n",
    "            session_ecg.extend([ses]*256)\n",
    "            psg_ecg.extend([psg]*256)\n",
    "            \n",
    "            ses += 1\n",
    "\n",
    "        print(activity.shape, hr.shape, repeat_cosine.shape, len(repeat_psg), len(psg_ecg), len(session_ecg))\n",
    "\n",
    "        df = pd.DataFrame({'activity_count': activity, 'heart_rate': hr, 'session_id':session, 'psg_status': repeat_psg})\n",
    "        df_ecg = pd.DataFrame({\"ECG\":ecg, 'session_id':session_ecg, 'psg_status': psg_ecg})\n",
    "        \n",
    "        df.to_csv(f\"/NFS/Users/moonsh/data/mesa/preproc/final/subject_{subj}.csv\", index=False)\n",
    "        df_ecg.to_csv(f\"/NFS/Users/moonsh/data/mesa/preproc/final/subject_{subj}_ecg.csv\", index=False)"
   ]
  },
  {
   "cell_type": "code",
   "execution_count": null,
   "metadata": {},
   "outputs": [],
   "source": [
    "# error_df = pd.DataFrame({'subject_id': Error})\n",
    "# error_df.to_csv(\"../data/mesa/error.csv\", index=False)"
   ]
  },
  {
   "cell_type": "code",
   "execution_count": null,
   "metadata": {},
   "outputs": [],
   "source": []
  }
 ],
 "metadata": {
  "kernelspec": {
   "display_name": "sleep",
   "language": "python",
   "name": "python3"
  },
  "language_info": {
   "codemirror_mode": {
    "name": "ipython",
    "version": 3
   },
   "file_extension": ".py",
   "mimetype": "text/x-python",
   "name": "python",
   "nbconvert_exporter": "python",
   "pygments_lexer": "ipython3",
   "version": "3.8.18"
  },
  "orig_nbformat": 4
 },
 "nbformat": 4,
 "nbformat_minor": 2
}
