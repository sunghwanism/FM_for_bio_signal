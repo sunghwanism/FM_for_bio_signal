{
 "cells": [
  {
   "cell_type": "markdown",
   "metadata": {},
   "source": [
    "## Checking preprocessing"
   ]
  },
  {
   "cell_type": "code",
   "execution_count": null,
   "metadata": {},
   "outputs": [],
   "source": [
    "import os\n",
    "\n",
    "import pandas as pd\n",
    "import numpy as np\n",
    "\n",
    "import matplotlib.pyplot as plt\n",
    "from tqdm import tqdm\n",
    "\n",
    "from utils import get_unique_subjects, load_data"
   ]
  },
  {
   "cell_type": "code",
   "execution_count": null,
   "metadata": {},
   "outputs": [
    {
     "name": "stdout",
     "output_type": "stream",
     "text": [
      "Total number of subjects:  1405\n"
     ]
    }
   ],
   "source": [
    "BASE = '/NFS/Users/moonsh/data/' # For server\n",
    "# BASE = '/volumes/DATA001/Users/moonsh/data/' # For Sung Mac\n",
    "\n",
    "\n",
    "DATAPATH = os.path.join(BASE, 'mesa/preproc/final')\n",
    "\n",
    "\n",
    "mesa_unique_subject = get_unique_subjects(DATAPATH)\n",
    "mesa_unique_subject.sort()\n",
    "print(\"Total number of subjects: \", len(mesa_unique_subject))"
   ]
  },
  {
   "cell_type": "code",
   "execution_count": null,
   "metadata": {},
   "outputs": [],
   "source": [
    "temp_subject = mesa_unique_subject[0]\n",
    "subject_data = load_data(subject=temp_subject, PATH=DATAPATH, load_type=[\"ECG\", \"HertRate\", \"Active\", \"psg\"])"
   ]
  },
  {
   "cell_type": "code",
   "execution_count": null,
   "metadata": {},
   "outputs": [],
   "source": [
    "plt.figure(figsize=(20, 2))\n",
    "plt.plot(subject_data[\"Active\"])\n",
    "plt.show()"
   ]
  },
  {
   "cell_type": "code",
   "execution_count": null,
   "metadata": {},
   "outputs": [],
   "source": [
    "plt.figure(figsize=(20, 2))\n",
    "plt.plot(subject_data[\"HeartRate\"])\n",
    "plt.show()"
   ]
  },
  {
   "cell_type": "code",
   "execution_count": null,
   "metadata": {},
   "outputs": [],
   "source": [
    "plt.figure(figsize=(30, 2))\n",
    "plt.plot(subject_data[\"ECG\"][256*100:256*110])\n",
    "plt.show()"
   ]
  },
  {
   "cell_type": "code",
   "execution_count": null,
   "metadata": {},
   "outputs": [],
   "source": [
    "class_dic = {}\n",
    "\n",
    "for subj in tqdm(mesa_unique_subject):\n",
    "    data = load_data(subject=temp_subject, PATH=DATAPATH, load_type=[\"psg\"])\n",
    "    \n",
    "    unique_values, counts = np.unique(data['psg'], return_counts=True)\n",
    "    \n",
    "    for i in range(len(unique_values)):\n",
    "        if unique_values[i] not in class_dic:\n",
    "            class_dic[unique_values[i]] = counts[i]\n",
    "        else:\n",
    "            class_dic[unique_values[i]] += counts[i]\n",
    "        \n",
    "    print(\"----\"*10)"
   ]
  },
  {
   "cell_type": "code",
   "execution_count": null,
   "metadata": {},
   "outputs": [],
   "source": []
  }
 ],
 "metadata": {
  "kernelspec": {
   "display_name": "FM_for_biosignal",
   "language": "python",
   "name": "python3"
  },
  "language_info": {
   "codemirror_mode": {
    "name": "ipython",
    "version": 3
   },
   "file_extension": ".py",
   "mimetype": "text/x-python",
   "name": "python",
   "nbconvert_exporter": "python",
   "pygments_lexer": "ipython3",
   "version": "3.8.18"
  }
 },
 "nbformat": 4,
 "nbformat_minor": 2
}
