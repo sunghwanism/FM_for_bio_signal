{
  "cells": [
    {
      "cell_type": "code",
      "execution_count": null,
      "metadata": {
        "id": "ksrLb6Y_rkzx"
      },
      "outputs": [],
      "source": [
        "#ecg create and shuffle block\n",
        "\n",
        "import os\n",
        "import numpy as np\n",
        "from tqdm.notebook import tqdm\n",
        "\n",
        "data_directory = '/NFS/Users/moonsh/data/mesa/preproc/npy'\n",
        "save_dir = '/NFS/Users/moonsh/data/mesa/preproc/pair'"
      ]
    },
    {
      "cell_type": "code",
      "execution_count": null,
      "metadata": {
        "id": "qm10OhVMK6ex"
      },
      "outputs": [],
      "source": [
        "datas = os.listdir(data_directory)\n",
        "datas.sort()\n",
        "datas = datas[:4*100]\n",
        "ecg_datas = [data for data in datas if 'ecg' in data]\n",
        "hr_datas = [data for data in datas if 'heart_rate' in data]\n",
        "sleep_datas = [data for data in datas if 'sleep' in data]\n",
        "act_datas = [data for data in datas if 'activity' in data]\n",
        "\n",
        "subj_data = {'ecg':ecg_datas, 'hr': hr_datas, 'stage':sleep_datas, 'act':act_datas}"
      ]
    },
    {
      "cell_type": "code",
      "execution_count": null,
      "metadata": {},
      "outputs": [],
      "source": [
        "ecg_block = 256*30\n",
        "hr_block = 30\n",
        "sleep_block = 1\n",
        "act_block = 30"
      ]
    },
    {
      "cell_type": "code",
      "execution_count": null,
      "metadata": {},
      "outputs": [],
      "source": [
        "def make_pair(ecg, hr, sleep, act, subject_idx, subject_id, savepath):\n",
        "\n",
        "    for seg_idx in range(len(sleep)):\n",
        "\n",
        "        ecg_data = ecg.squeeze()[seg_idx]\n",
        "        hr_data = hr.squeeze()[seg_idx]\n",
        "        sleep_data = sleep.squeeze()[seg_idx]\n",
        "        act_data = act.squeeze()[seg_idx]\n",
        "\n",
        "        data_dict = {\n",
        "                    'ecg': ecg_data,\n",
        "                    'hr': hr_data,\n",
        "                    'stage': sleep_data,\n",
        "                    'activty': act_data,\n",
        "                    'subject_idx': subject_idx\n",
        "                    }\n",
        "        \n",
        "        savepath = os.path.join(save_dir, f'{subject_id}_{seg_idx}.npz')\n",
        "        np.savez(savepath, **data_dict)"
      ]
    },
    {
      "cell_type": "code",
      "execution_count": null,
      "metadata": {},
      "outputs": [],
      "source": [
        "for i in tqdm(range(100)):\n",
        "\n",
        "    ecg = subj_data['ecg'][i]\n",
        "    hr = subj_data['hr'][i]\n",
        "    sleep = subj_data['stage'][i]\n",
        "    act = subj_data['act'][i]\n",
        "    \n",
        "    ecg_list = np.load(os.path.join(data_directory, ecg))\n",
        "    hr_list = np.load(os.path.join(data_directory, hr))\n",
        "    sleep_list = np.load(os.path.join(data_directory, sleep))\n",
        "    act_list = np.load(os.path.join(data_directory, act))\n",
        "    real_subject = ecg.split('_')[0]\n",
        "\n",
        "    make_pair(ecg_list, hr_list, sleep_list, act_list, i, real_subject, save_dir)"
      ]
    },
    {
      "cell_type": "code",
      "execution_count": null,
      "metadata": {},
      "outputs": [],
      "source": [
        "loaded_data = np.load(os.path.join(save_dir, f'0001_0.npz'))\n",
        "\n",
        "loaded_ecg_data = loaded_data['ecg']\n",
        "loaded_hr_data = loaded_data['hr']\n",
        "loaded_sleep_data = loaded_data['stage']\n",
        "loaded_act_data = loaded_data['activty']\n",
        "loaded_subj_data = loaded_data['subject_idx']\n",
        "\n",
        "print(loaded_ecg_data.shape)\n",
        "print(loaded_hr_data.shape)\n",
        "print(loaded_sleep_data.shape)\n",
        "print(loaded_act_data.shape)\n",
        "print(loaded_subj_data.shape)\n"
      ]
    },
    {
      "cell_type": "code",
      "execution_count": null,
      "metadata": {},
      "outputs": [],
      "source": []
    }
  ],
  "metadata": {
    "colab": {
      "provenance": []
    },
    "kernelspec": {
      "display_name": "Python 3",
      "name": "python3"
    },
    "language_info": {
      "codemirror_mode": {
        "name": "ipython",
        "version": 3
      },
      "file_extension": ".py",
      "mimetype": "text/x-python",
      "name": "python",
      "nbconvert_exporter": "python",
      "pygments_lexer": "ipython3",
      "version": "3.8.18"
    }
  },
  "nbformat": 4,
  "nbformat_minor": 0
}
