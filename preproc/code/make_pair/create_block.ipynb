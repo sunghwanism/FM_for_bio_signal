{
  "nbformat": 4,
  "nbformat_minor": 0,
  "metadata": {
    "colab": {
      "provenance": []
    },
    "kernelspec": {
      "name": "python3",
      "display_name": "Python 3"
    },
    "language_info": {
      "name": "python"
    }
  },
  "cells": [
    {
      "cell_type": "markdown",
      "source": [
        "using numpy"
      ],
      "metadata": {
        "id": "46LUCgd9rB23"
      }
    },
    {
      "cell_type": "code",
      "source": [
        "import os\n",
        "import numpy as np\n",
        "\n",
        "ecg_directory = '/content/mesa_preproc_sample/preproc/final/ecg/'\n",
        "hr_directory = '/content/mesa_preproc_sample/preproc/final/hr/'\n",
        "\n",
        "def process_data(file_path, block_size, is_ecg=True):\n",
        "    data = []\n",
        "    psg_status = []\n",
        "    with open(file_path, 'r') as file:\n",
        "        next(file)\n",
        "        for line in file:\n",
        "            if line.strip() != '':\n",
        "                row_data = line.split(',')\n",
        "                if is_ecg:\n",
        "                    data.append(float(row_data[0]))\n",
        "                else:\n",
        "                    data.append(float(row_data[1]))\n",
        "                psg_status.append(int(row_data[-1]))\n",
        "    data = np.array(data)\n",
        "    psg_status = np.array(psg_status)\n",
        "\n",
        "    num_blocks = len(data) // block_size\n",
        "    data_blocks = np.split(data[:num_blocks * block_size], num_blocks)\n",
        "    psg_status_blocks = np.split(psg_status[:num_blocks * block_size], num_blocks)\n",
        "    return data_blocks, psg_status_blocks\n"
      ],
      "metadata": {
        "id": "QORa6TCDALfE"
      },
      "execution_count": 24,
      "outputs": []
    },
    {
      "cell_type": "code",
      "source": [
        "def process_data(file_path, block_size, is_ecg=True):\n",
        "    data = []\n",
        "    psg_status = []\n",
        "    labels = []  # Initialize a list to store labels\n",
        "    with open(file_path, 'r') as file:\n",
        "        next(file)\n",
        "        for line in file:\n",
        "            if line.strip() != '':\n",
        "                row_data = line.split(',')\n",
        "                if is_ecg:\n",
        "                    data.append(float(row_data[0]))\n",
        "                else:\n",
        "                    data.append(float(row_data[1]))\n",
        "                psg_status.append(int(row_data[-1]))\n",
        "        # Extract label from the file name\n",
        "        label = os.path.basename(file_path).split('_')[1]\n",
        "        labels.extend([label] * len(data))\n",
        "    data = np.array(data)\n",
        "    psg_status = np.array(psg_status)\n",
        "    labels = np.array(labels)\n",
        "\n",
        "    num_blocks = len(data) // block_size\n",
        "    data_blocks = np.split(data[:num_blocks * block_size], num_blocks)\n",
        "    psg_status_blocks = np.split(psg_status[:num_blocks * block_size], num_blocks)\n",
        "    label_blocks = np.split(labels[:num_blocks * block_size], num_blocks)\n",
        "    return data_blocks, psg_status_blocks, label_blocks"
      ],
      "metadata": {
        "id": "I9KGLzQ1__8y"
      },
      "execution_count": 25,
      "outputs": []
    },
    {
      "cell_type": "code",
      "source": [
        "# Process ECG data\n",
        "ecg_data_blocks = []\n",
        "ecg_psg_status_blocks = []\n",
        "ecg_label_blocks = []\n",
        "for filename in os.listdir(ecg_directory):\n",
        "    if filename.endswith('.csv'):\n",
        "        ecg_file_path = os.path.join(ecg_directory, filename)\n",
        "        data_blocks, psg_status_blocks, label_blocks = process_data(ecg_file_path, block_size=7680, is_ecg=True)\n",
        "        ecg_data_blocks.extend(data_blocks)\n",
        "        ecg_psg_status_blocks.extend(psg_status_blocks)\n",
        "        ecg_label_blocks.extend(label_blocks)\n",
        "\n",
        "# Process heart rate data\n",
        "hr_data_blocks = []\n",
        "hr_psg_status_blocks = []\n",
        "hr_label_blocks = []\n",
        "for filename in os.listdir(hr_directory):\n",
        "    if filename.endswith('.csv'):\n",
        "        hr_file_path = os.path.join(hr_directory, filename)\n",
        "        data_blocks, psg_status_blocks, label_blocks = process_data(hr_file_path, block_size=30, is_ecg=False)\n",
        "        hr_data_blocks.extend(data_blocks)\n",
        "        hr_psg_status_blocks.extend(psg_status_blocks)\n",
        "        hr_label_blocks.extend(label_blocks)\n",
        "\n",
        "# Convert data to NumPy arrays\n",
        "ecg_data_array = np.array(ecg_data_blocks)\n",
        "ecg_psg_status_array = np.array(ecg_psg_status_blocks)\n",
        "ecg_label_array = np.array(ecg_label_blocks)\n",
        "\n",
        "hr_data_array = np.array(hr_data_blocks)\n",
        "hr_psg_status_array = np.array(hr_psg_status_blocks)\n",
        "hr_label_array = np.array(hr_label_blocks)"
      ],
      "metadata": {
        "id": "2AQNGJglsh-L"
      },
      "execution_count": 26,
      "outputs": []
    },
    {
      "cell_type": "code",
      "source": [
        "print(ecg_data_array.shape)"
      ],
      "metadata": {
        "colab": {
          "base_uri": "https://localhost:8080/"
        },
        "id": "QvyH2qq6s8Vq",
        "outputId": "1f2395c5-2d2f-485a-adfd-0eb9938e5734"
      },
      "execution_count": 27,
      "outputs": [
        {
          "output_type": "stream",
          "name": "stdout",
          "text": [
            "(4791, 7680)\n"
          ]
        }
      ]
    },
    {
      "cell_type": "code",
      "source": [
        "print(hr_data_array.shape)"
      ],
      "metadata": {
        "colab": {
          "base_uri": "https://localhost:8080/"
        },
        "id": "SQZJqJGftCFK",
        "outputId": "42494e3f-53cf-4a2e-f971-4f3952346b13"
      },
      "execution_count": 28,
      "outputs": [
        {
          "output_type": "stream",
          "name": "stdout",
          "text": [
            "(4791, 30)\n"
          ]
        }
      ]
    },
    {
      "cell_type": "code",
      "source": [
        "# Shuffle data\n",
        "shuffle_indices = np.random.permutation(len(ecg_data_array))\n",
        "ecg_data_array_shuffled = ecg_data_array[shuffle_indices]\n",
        "ecg_psg_array_shuffled = ecg_psg_status_array[shuffle_indices]\n",
        "ecg_label_array_shuffled = ecg_label_array[shuffle_indices]\n",
        "\n",
        "shuffle_indices = np.random.permutation(len(hr_data_array))\n",
        "hr_data_array_shuffled = hr_data_array[shuffle_indices]\n",
        "hr_psg_array_shuffled = hr_psg_status_array[shuffle_indices]\n",
        "hr_label_array_shuffled = hr_label_array[shuffle_indices]\n",
        "\n",
        "# Save shuffled data to .npy files\n",
        "np.save('/content/ecg_data_shuffled.npy', ecg_data_array_shuffled)\n",
        "np.save('/content/ecg_psg_shuffled.npy', ecg_psg_array_shuffled)\n",
        "np.save('/content/ecg_label_shuffled.npy', ecg_label_array_shuffled)\n",
        "\n",
        "np.save('/content/hr_data_shuffled.npy', hr_data_array_shuffled)\n",
        "np.save('/content/hr_psg_shuffled.npy', hr_psg_array_shuffled)\n",
        "np.save('/content/hr_label_shuffled.npy', hr_label_array_shuffled)"
      ],
      "metadata": {
        "id": "Xg0hdzEwq5Go"
      },
      "execution_count": 32,
      "outputs": []
    },
    {
      "cell_type": "code",
      "source": [
        "ecg_data_array_shuffled"
      ],
      "metadata": {
        "colab": {
          "base_uri": "https://localhost:8080/"
        },
        "id": "Y3Tlq0vwA7OI",
        "outputId": "dd8650d7-61cd-4ff2-ce36-9a131d620339"
      },
      "execution_count": 34,
      "outputs": [
        {
          "output_type": "execute_result",
          "data": {
            "text/plain": [
              "array([[ 0.26741436,  0.24071107,  0.24147402, ...,  0.06050202,\n",
              "         0.04142824,  0.09285115],\n",
              "       [ 0.18028534,  0.17799649,  0.17189288, ..., -0.08461128,\n",
              "        -0.07911803, -0.07286183],\n",
              "       [-0.11711299, -0.11772335, -0.11772335, ...,  0.00953689,\n",
              "         0.00755322,  0.00770581],\n",
              "       ...,\n",
              "       [ 0.40550851,  0.4181735 ,  0.31303883, ..., -0.06309606,\n",
              "        -0.02250706,  0.02067597],\n",
              "       [ 0.00434882,  0.00068666, -0.00144961, ...,  0.0296788 ,\n",
              "         0.03059434,  0.02876326],\n",
              "       [ 0.01380941,  0.01045243,  0.00892653, ...,  0.01014725,\n",
              "         0.01060502,  0.01197833]])"
            ]
          },
          "metadata": {},
          "execution_count": 34
        }
      ]
    }
  ]
}